{
  "cells": [
    {
      "cell_type": "markdown",
      "id": "4ee965a3-7dbc-4285-9d70-e00f097d4b69",
      "metadata": {
        "id": "4ee965a3-7dbc-4285-9d70-e00f097d4b69"
      },
      "source": [
        "<h1><font color=\"Purple\">Final Project ML course</font></h1>\n",
        "\n"
      ]
    },
    {
      "cell_type": "markdown",
      "id": "4f9132d6-a2de-4945-9766-09842dbf80a0",
      "metadata": {
        "id": "4f9132d6-a2de-4945-9766-09842dbf80a0"
      },
      "source": [
        "### Amir Motiei - 329453062\n",
        "### Amit Moshe Frastai - 216205443"
      ]
    },
    {
      "cell_type": "markdown",
      "id": "72f76b5e-904d-4f37-a164-908836a2b39d",
      "metadata": {
        "id": "72f76b5e-904d-4f37-a164-908836a2b39d"
      },
      "source": [
        "---"
      ]
    },
    {
      "cell_type": "markdown",
      "id": "8c64eca2",
      "metadata": {
        "id": "8c64eca2"
      },
      "source": [
        "## Let us predict if someone will die in 5 years, based on 12438 people.\n",
        "## This is a classification problem where the outcomes are already known, and the goal is to develop a model that predicts the best results."
      ]
    },
    {
      "cell_type": "markdown",
      "id": "b330b6bb-8a38-476d-b4cc-af9462956888",
      "metadata": {
        "id": "b330b6bb-8a38-476d-b4cc-af9462956888"
      },
      "source": [
        "<hr style=\"border: 2px solid black;\"/>"
      ]
    },
    {
      "cell_type": "markdown",
      "id": "e9a2ec22",
      "metadata": {
        "id": "e9a2ec22"
      },
      "source": [
        "<h2><b><u>TOC</u></b></h2>"
      ]
    },
    {
      "cell_type": "markdown",
      "id": "a254654c",
      "metadata": {
        "id": "a254654c"
      },
      "source": [
        "- [Part 1 - Inspecting The Data](#part-1-inspecting-the-data)<br>\n",
        "- [Part 2 - Visualize](#part-2-visualize)<br>\n",
        "- [Part 3 - Fixing the data](#Part-3-Fixing-the-data)<br>\n",
        "- [Part 4 - Models](#Part-4-Models)<br>\n",
        "- [Part 5 - After PCA](#Part-5-After-PCA)"
      ]
    },
    {
      "cell_type": "markdown",
      "id": "8dc54802-8b25-40c6-a67f-d660e4e17898",
      "metadata": {
        "id": "8dc54802-8b25-40c6-a67f-d660e4e17898"
      },
      "source": [
        "<hr style=\"border: 2px solid black;\"/>"
      ]
    },
    {
      "cell_type": "code",
      "execution_count": null,
      "id": "72b92fca",
      "metadata": {
        "id": "72b92fca"
      },
      "outputs": [],
      "source": [
        "import pandas as pd\n",
        "import numpy as np\n",
        "import random as rnd\n",
        "import seaborn as sns\n",
        "import matplotlib.pyplot as plt\n",
        "%matplotlib inline\n",
        "import os\n",
        "import glob"
      ]
    },
    {
      "cell_type": "markdown",
      "id": "db745277-7881-4613-9476-b92b35b1b59a",
      "metadata": {
        "id": "db745277-7881-4613-9476-b92b35b1b59a"
      },
      "source": [
        "<h2><u><b id=\"part-1-inspecting-the-data\">Part 1 - Inspecting The Data</b></u></h2>"
      ]
    },
    {
      "cell_type": "code",
      "execution_count": null,
      "id": "2b1783b8-c0a2-4e30-89e2-0a2d711896d0",
      "metadata": {
        "id": "2b1783b8-c0a2-4e30-89e2-0a2d711896d0"
      },
      "outputs": [],
      "source": [
        "data = pd.read_csv(r\"/Users/amitmoshefrastai/Downloads/death_prediction_synthetic.csv\")"
      ]
    },
    {
      "cell_type": "code",
      "execution_count": null,
      "id": "f63c6112",
      "metadata": {
        "id": "f63c6112",
        "outputId": "c606677c-eb7f-4d1e-d6f5-4bfb6b4d3748"
      },
      "outputs": [
        {
          "data": {
            "text/html": [
              "<div>\n",
              "<style scoped>\n",
              "    .dataframe tbody tr th:only-of-type {\n",
              "        vertical-align: middle;\n",
              "    }\n",
              "\n",
              "    .dataframe tbody tr th {\n",
              "        vertical-align: top;\n",
              "    }\n",
              "\n",
              "    .dataframe thead th {\n",
              "        text-align: right;\n",
              "    }\n",
              "</style>\n",
              "<table border=\"1\" class=\"dataframe\">\n",
              "  <thead>\n",
              "    <tr style=\"text-align: right;\">\n",
              "      <th></th>\n",
              "      <th>age</th>\n",
              "      <th>sex</th>\n",
              "      <th>marital_status</th>\n",
              "      <th>ses</th>\n",
              "      <th>residence_cd</th>\n",
              "      <th>residence</th>\n",
              "      <th>weigh</th>\n",
              "      <th>heigh</th>\n",
              "      <th>BMI</th>\n",
              "      <th>bp_sys</th>\n",
              "      <th>...</th>\n",
              "      <th>framingham_cvd</th>\n",
              "      <th>antidiabetics</th>\n",
              "      <th>ERD</th>\n",
              "      <th>CVD</th>\n",
              "      <th>HTN</th>\n",
              "      <th>cancer</th>\n",
              "      <th>cardiovascular_meds</th>\n",
              "      <th>statines</th>\n",
              "      <th>immigrant</th>\n",
              "      <th>dead_5y</th>\n",
              "    </tr>\n",
              "  </thead>\n",
              "  <tbody>\n",
              "    <tr>\n",
              "      <th>0</th>\n",
              "      <td>49</td>\n",
              "      <td>2</td>\n",
              "      <td>U</td>\n",
              "      <td>1</td>\n",
              "      <td>1</td>\n",
              "      <td>urban</td>\n",
              "      <td>84.0</td>\n",
              "      <td>160.0</td>\n",
              "      <td>32.79</td>\n",
              "      <td>116</td>\n",
              "      <td>...</td>\n",
              "      <td>0.12908</td>\n",
              "      <td>1</td>\n",
              "      <td>0</td>\n",
              "      <td>0</td>\n",
              "      <td>1</td>\n",
              "      <td>0</td>\n",
              "      <td>1</td>\n",
              "      <td>1</td>\n",
              "      <td>0</td>\n",
              "      <td>0</td>\n",
              "    </tr>\n",
              "    <tr>\n",
              "      <th>1</th>\n",
              "      <td>46</td>\n",
              "      <td>2</td>\n",
              "      <td>M</td>\n",
              "      <td>1</td>\n",
              "      <td>1</td>\n",
              "      <td>urban</td>\n",
              "      <td>67.0</td>\n",
              "      <td>152.0</td>\n",
              "      <td>29.38</td>\n",
              "      <td>113</td>\n",
              "      <td>...</td>\n",
              "      <td>0.08500</td>\n",
              "      <td>1</td>\n",
              "      <td>0</td>\n",
              "      <td>0</td>\n",
              "      <td>0</td>\n",
              "      <td>0</td>\n",
              "      <td>1</td>\n",
              "      <td>1</td>\n",
              "      <td>0</td>\n",
              "      <td>0</td>\n",
              "    </tr>\n",
              "    <tr>\n",
              "      <th>2</th>\n",
              "      <td>46</td>\n",
              "      <td>2</td>\n",
              "      <td>U</td>\n",
              "      <td>1</td>\n",
              "      <td>1</td>\n",
              "      <td>urban</td>\n",
              "      <td>62.4</td>\n",
              "      <td>148.0</td>\n",
              "      <td>28.31</td>\n",
              "      <td>133</td>\n",
              "      <td>...</td>\n",
              "      <td>0.10715</td>\n",
              "      <td>1</td>\n",
              "      <td>0</td>\n",
              "      <td>0</td>\n",
              "      <td>1</td>\n",
              "      <td>0</td>\n",
              "      <td>1</td>\n",
              "      <td>1</td>\n",
              "      <td>0</td>\n",
              "      <td>0</td>\n",
              "    </tr>\n",
              "    <tr>\n",
              "      <th>3</th>\n",
              "      <td>45</td>\n",
              "      <td>1</td>\n",
              "      <td>U</td>\n",
              "      <td>2</td>\n",
              "      <td>1</td>\n",
              "      <td>urban</td>\n",
              "      <td>73.9</td>\n",
              "      <td>166.0</td>\n",
              "      <td>26.85</td>\n",
              "      <td>100</td>\n",
              "      <td>...</td>\n",
              "      <td>0.10110</td>\n",
              "      <td>1</td>\n",
              "      <td>0</td>\n",
              "      <td>0</td>\n",
              "      <td>0</td>\n",
              "      <td>0</td>\n",
              "      <td>0</td>\n",
              "      <td>1</td>\n",
              "      <td>0</td>\n",
              "      <td>0</td>\n",
              "    </tr>\n",
              "    <tr>\n",
              "      <th>4</th>\n",
              "      <td>49</td>\n",
              "      <td>2</td>\n",
              "      <td>U</td>\n",
              "      <td>1</td>\n",
              "      <td>1</td>\n",
              "      <td>urban</td>\n",
              "      <td>53.0</td>\n",
              "      <td>161.0</td>\n",
              "      <td>20.45</td>\n",
              "      <td>110</td>\n",
              "      <td>...</td>\n",
              "      <td>0.03950</td>\n",
              "      <td>1</td>\n",
              "      <td>0</td>\n",
              "      <td>0</td>\n",
              "      <td>0</td>\n",
              "      <td>0</td>\n",
              "      <td>0</td>\n",
              "      <td>1</td>\n",
              "      <td>0</td>\n",
              "      <td>0</td>\n",
              "    </tr>\n",
              "  </tbody>\n",
              "</table>\n",
              "<p>5 rows × 45 columns</p>\n",
              "</div>"
            ],
            "text/plain": [
              "   age  sex marital_status  ses  residence_cd residence  weigh  heigh    BMI  \\\n",
              "0   49    2              U    1             1     urban   84.0  160.0  32.79   \n",
              "1   46    2              M    1             1     urban   67.0  152.0  29.38   \n",
              "2   46    2              U    1             1     urban   62.4  148.0  28.31   \n",
              "3   45    1              U    2             1     urban   73.9  166.0  26.85   \n",
              "4   49    2              U    1             1     urban   53.0  161.0  20.45   \n",
              "\n",
              "   bp_sys  ...  framingham_cvd antidiabetics  ERD CVD  HTN  cancer  \\\n",
              "0     116  ...         0.12908             1    0   0    1       0   \n",
              "1     113  ...         0.08500             1    0   0    0       0   \n",
              "2     133  ...         0.10715             1    0   0    1       0   \n",
              "3     100  ...         0.10110             1    0   0    0       0   \n",
              "4     110  ...         0.03950             1    0   0    0       0   \n",
              "\n",
              "   cardiovascular_meds  statines  immigrant  dead_5y  \n",
              "0                    1         1          0        0  \n",
              "1                    1         1          0        0  \n",
              "2                    1         1          0        0  \n",
              "3                    0         1          0        0  \n",
              "4                    0         1          0        0  \n",
              "\n",
              "[5 rows x 45 columns]"
            ]
          },
          "execution_count": 12,
          "metadata": {},
          "output_type": "execute_result"
        }
      ],
      "source": [
        "data.head()"
      ]
    },
    {
      "cell_type": "code",
      "execution_count": null,
      "id": "d017b1ae-1364-4211-8faf-9853aaf725eb",
      "metadata": {
        "id": "d017b1ae-1364-4211-8faf-9853aaf725eb",
        "outputId": "eac9dd7d-6cd2-491c-9c3c-74f86ac66d99"
      },
      "outputs": [
        {
          "name": "stdout",
          "output_type": "stream",
          "text": [
            "<class 'pandas.core.frame.DataFrame'>\n",
            "RangeIndex: 12438 entries, 0 to 12437\n",
            "Data columns (total 45 columns):\n",
            " #   Column               Non-Null Count  Dtype  \n",
            "---  ------               --------------  -----  \n",
            " 0   age                  12438 non-null  int64  \n",
            " 1   sex                  12438 non-null  int64  \n",
            " 2   marital_status       12438 non-null  object \n",
            " 3   ses                  12438 non-null  int64  \n",
            " 4   residence_cd         12438 non-null  int64  \n",
            " 5   residence            12438 non-null  object \n",
            " 6   weigh                12438 non-null  float64\n",
            " 7   heigh                12438 non-null  float64\n",
            " 8   BMI                  12438 non-null  float64\n",
            " 9   bp_sys               12438 non-null  int64  \n",
            " 10  bp_dias              12438 non-null  int64  \n",
            " 11  bp_cat               12438 non-null  object \n",
            " 12  smoking              12438 non-null  int64  \n",
            " 13  smoking_status       12438 non-null  object \n",
            " 14  HbA1c                12438 non-null  float64\n",
            " 15  glucose              12438 non-null  int64  \n",
            " 16  creatinin            12438 non-null  float64\n",
            " 17  albumin              10975 non-null  float64\n",
            " 18  alb24h               3520 non-null   float64\n",
            " 19  ACR                  11226 non-null  float64\n",
            " 20  cholesterol_total    12438 non-null  float64\n",
            " 21  LDL                  12438 non-null  float64\n",
            " 22  HDL                  12438 non-null  float64\n",
            " 23  triglycerides        12438 non-null  int64  \n",
            " 24  TSH                  12438 non-null  float64\n",
            " 25  gravity_u            9908 non-null   float64\n",
            " 26  nitrites_u           9918 non-null   float64\n",
            " 27  leuko_u              9931 non-null   float64\n",
            " 28  proteinuria          9932 non-null   float64\n",
            " 29  WBC                  12438 non-null  float64\n",
            " 30  RBC                  12438 non-null  float64\n",
            " 31  platelets            12438 non-null  int64  \n",
            " 32  MCV                  12438 non-null  float64\n",
            " 33  MPV                  12438 non-null  float64\n",
            " 34  Charlson             12438 non-null  int64  \n",
            " 35  framingham_cvd       12438 non-null  float64\n",
            " 36  antidiabetics        12438 non-null  int64  \n",
            " 37  ERD                  12438 non-null  int64  \n",
            " 38  CVD                  12438 non-null  int64  \n",
            " 39  HTN                  12438 non-null  int64  \n",
            " 40  cancer               12438 non-null  int64  \n",
            " 41  cardiovascular_meds  12438 non-null  int64  \n",
            " 42  statines             12438 non-null  int64  \n",
            " 43  immigrant            12438 non-null  int64  \n",
            " 44  dead_5y              12438 non-null  int64  \n",
            "dtypes: float64(21), int64(20), object(4)\n",
            "memory usage: 4.3+ MB\n"
          ]
        }
      ],
      "source": [
        "data.info()\n"
      ]
    },
    {
      "cell_type": "markdown",
      "id": "b531577c-16b4-4357-9fa8-00873004c740",
      "metadata": {
        "id": "b531577c-16b4-4357-9fa8-00873004c740"
      },
      "source": [
        "#### Looks normal, some columns has lot of nulls, will handle it later down the line."
      ]
    },
    {
      "cell_type": "markdown",
      "id": "16218fcd-3668-4d55-bdcc-a2d14cb399ef",
      "metadata": {
        "id": "16218fcd-3668-4d55-bdcc-a2d14cb399ef"
      },
      "source": [
        "---\n"
      ]
    },
    {
      "cell_type": "code",
      "execution_count": null,
      "id": "28b2b838-d80f-4cee-a7ce-718d78280327",
      "metadata": {
        "id": "28b2b838-d80f-4cee-a7ce-718d78280327",
        "outputId": "6bfe2441-16ca-4b65-d188-255360d3ffdf"
      },
      "outputs": [
        {
          "data": {
            "text/html": [
              "<div>\n",
              "<style scoped>\n",
              "    .dataframe tbody tr th:only-of-type {\n",
              "        vertical-align: middle;\n",
              "    }\n",
              "\n",
              "    .dataframe tbody tr th {\n",
              "        vertical-align: top;\n",
              "    }\n",
              "\n",
              "    .dataframe thead th {\n",
              "        text-align: right;\n",
              "    }\n",
              "</style>\n",
              "<table border=\"1\" class=\"dataframe\">\n",
              "  <thead>\n",
              "    <tr style=\"text-align: right;\">\n",
              "      <th></th>\n",
              "      <th>count</th>\n",
              "      <th>mean</th>\n",
              "      <th>std</th>\n",
              "      <th>min</th>\n",
              "      <th>25%</th>\n",
              "      <th>50%</th>\n",
              "      <th>75%</th>\n",
              "      <th>max</th>\n",
              "    </tr>\n",
              "  </thead>\n",
              "  <tbody>\n",
              "    <tr>\n",
              "      <th>age</th>\n",
              "      <td>12438.0</td>\n",
              "      <td>43.501126</td>\n",
              "      <td>4.802035</td>\n",
              "      <td>30.00000</td>\n",
              "      <td>41.0000</td>\n",
              "      <td>45.00000</td>\n",
              "      <td>48.00000</td>\n",
              "      <td>49.00000</td>\n",
              "    </tr>\n",
              "    <tr>\n",
              "      <th>sex</th>\n",
              "      <td>12438.0</td>\n",
              "      <td>1.468805</td>\n",
              "      <td>0.499046</td>\n",
              "      <td>1.00000</td>\n",
              "      <td>1.0000</td>\n",
              "      <td>1.00000</td>\n",
              "      <td>2.00000</td>\n",
              "      <td>2.00000</td>\n",
              "    </tr>\n",
              "    <tr>\n",
              "      <th>ses</th>\n",
              "      <td>12438.0</td>\n",
              "      <td>1.677279</td>\n",
              "      <td>0.763641</td>\n",
              "      <td>1.00000</td>\n",
              "      <td>1.0000</td>\n",
              "      <td>1.00000</td>\n",
              "      <td>2.00000</td>\n",
              "      <td>3.00000</td>\n",
              "    </tr>\n",
              "    <tr>\n",
              "      <th>residence_cd</th>\n",
              "      <td>12438.0</td>\n",
              "      <td>1.062631</td>\n",
              "      <td>0.242307</td>\n",
              "      <td>1.00000</td>\n",
              "      <td>1.0000</td>\n",
              "      <td>1.00000</td>\n",
              "      <td>1.00000</td>\n",
              "      <td>2.00000</td>\n",
              "    </tr>\n",
              "    <tr>\n",
              "      <th>weigh</th>\n",
              "      <td>12438.0</td>\n",
              "      <td>89.837746</td>\n",
              "      <td>19.296247</td>\n",
              "      <td>41.00000</td>\n",
              "      <td>76.0000</td>\n",
              "      <td>88.00000</td>\n",
              "      <td>100.00000</td>\n",
              "      <td>203.00000</td>\n",
              "    </tr>\n",
              "    <tr>\n",
              "      <th>heigh</th>\n",
              "      <td>12438.0</td>\n",
              "      <td>167.943906</td>\n",
              "      <td>10.068620</td>\n",
              "      <td>91.50000</td>\n",
              "      <td>160.0000</td>\n",
              "      <td>168.00000</td>\n",
              "      <td>175.00000</td>\n",
              "      <td>202.00000</td>\n",
              "    </tr>\n",
              "    <tr>\n",
              "      <th>BMI</th>\n",
              "      <td>12438.0</td>\n",
              "      <td>31.871922</td>\n",
              "      <td>6.459714</td>\n",
              "      <td>15.79000</td>\n",
              "      <td>27.4000</td>\n",
              "      <td>31.05000</td>\n",
              "      <td>35.35000</td>\n",
              "      <td>95.55000</td>\n",
              "    </tr>\n",
              "    <tr>\n",
              "      <th>bp_sys</th>\n",
              "      <td>12438.0</td>\n",
              "      <td>124.803988</td>\n",
              "      <td>13.615760</td>\n",
              "      <td>75.00000</td>\n",
              "      <td>118.0000</td>\n",
              "      <td>124.00000</td>\n",
              "      <td>130.00000</td>\n",
              "      <td>200.00000</td>\n",
              "    </tr>\n",
              "    <tr>\n",
              "      <th>bp_dias</th>\n",
              "      <td>12438.0</td>\n",
              "      <td>77.315163</td>\n",
              "      <td>8.915362</td>\n",
              "      <td>40.00000</td>\n",
              "      <td>70.0000</td>\n",
              "      <td>79.00000</td>\n",
              "      <td>80.00000</td>\n",
              "      <td>135.00000</td>\n",
              "    </tr>\n",
              "    <tr>\n",
              "      <th>smoking</th>\n",
              "      <td>12438.0</td>\n",
              "      <td>1.636678</td>\n",
              "      <td>0.871735</td>\n",
              "      <td>1.00000</td>\n",
              "      <td>1.0000</td>\n",
              "      <td>1.00000</td>\n",
              "      <td>3.00000</td>\n",
              "      <td>3.00000</td>\n",
              "    </tr>\n",
              "    <tr>\n",
              "      <th>HbA1c</th>\n",
              "      <td>12438.0</td>\n",
              "      <td>7.623666</td>\n",
              "      <td>1.867250</td>\n",
              "      <td>4.00000</td>\n",
              "      <td>6.3000</td>\n",
              "      <td>7.10000</td>\n",
              "      <td>8.50000</td>\n",
              "      <td>16.80000</td>\n",
              "    </tr>\n",
              "    <tr>\n",
              "      <th>glucose</th>\n",
              "      <td>12438.0</td>\n",
              "      <td>153.757276</td>\n",
              "      <td>64.724782</td>\n",
              "      <td>40.00000</td>\n",
              "      <td>110.0000</td>\n",
              "      <td>134.00000</td>\n",
              "      <td>177.00000</td>\n",
              "      <td>883.00000</td>\n",
              "    </tr>\n",
              "    <tr>\n",
              "      <th>creatinin</th>\n",
              "      <td>12438.0</td>\n",
              "      <td>0.751235</td>\n",
              "      <td>0.428875</td>\n",
              "      <td>0.11000</td>\n",
              "      <td>0.6000</td>\n",
              "      <td>0.71000</td>\n",
              "      <td>0.84000</td>\n",
              "      <td>11.15000</td>\n",
              "    </tr>\n",
              "    <tr>\n",
              "      <th>albumin</th>\n",
              "      <td>10975.0</td>\n",
              "      <td>4.327445</td>\n",
              "      <td>0.329294</td>\n",
              "      <td>2.50000</td>\n",
              "      <td>4.1000</td>\n",
              "      <td>4.30000</td>\n",
              "      <td>4.53000</td>\n",
              "      <td>5.70000</td>\n",
              "    </tr>\n",
              "    <tr>\n",
              "      <th>alb24h</th>\n",
              "      <td>3520.0</td>\n",
              "      <td>219.855858</td>\n",
              "      <td>4084.373676</td>\n",
              "      <td>0.00000</td>\n",
              "      <td>10.0000</td>\n",
              "      <td>17.80000</td>\n",
              "      <td>50.00000</td>\n",
              "      <td>170385.00000</td>\n",
              "    </tr>\n",
              "    <tr>\n",
              "      <th>ACR</th>\n",
              "      <td>11226.0</td>\n",
              "      <td>38.829212</td>\n",
              "      <td>117.962082</td>\n",
              "      <td>0.00000</td>\n",
              "      <td>3.8700</td>\n",
              "      <td>7.00000</td>\n",
              "      <td>21.00000</td>\n",
              "      <td>1494.57000</td>\n",
              "    </tr>\n",
              "    <tr>\n",
              "      <th>cholesterol_total</th>\n",
              "      <td>12438.0</td>\n",
              "      <td>183.736887</td>\n",
              "      <td>40.607061</td>\n",
              "      <td>68.00000</td>\n",
              "      <td>156.0000</td>\n",
              "      <td>180.00000</td>\n",
              "      <td>208.00000</td>\n",
              "      <td>525.00000</td>\n",
              "    </tr>\n",
              "    <tr>\n",
              "      <th>LDL</th>\n",
              "      <td>12438.0</td>\n",
              "      <td>104.314327</td>\n",
              "      <td>33.206564</td>\n",
              "      <td>30.00000</td>\n",
              "      <td>81.3000</td>\n",
              "      <td>101.20000</td>\n",
              "      <td>124.40000</td>\n",
              "      <td>250.00000</td>\n",
              "    </tr>\n",
              "    <tr>\n",
              "      <th>HDL</th>\n",
              "      <td>12438.0</td>\n",
              "      <td>42.296205</td>\n",
              "      <td>10.289038</td>\n",
              "      <td>11.00000</td>\n",
              "      <td>35.0000</td>\n",
              "      <td>41.00000</td>\n",
              "      <td>48.00000</td>\n",
              "      <td>136.00000</td>\n",
              "    </tr>\n",
              "    <tr>\n",
              "      <th>triglycerides</th>\n",
              "      <td>12438.0</td>\n",
              "      <td>199.988583</td>\n",
              "      <td>152.421882</td>\n",
              "      <td>24.00000</td>\n",
              "      <td>115.0000</td>\n",
              "      <td>166.00000</td>\n",
              "      <td>237.00000</td>\n",
              "      <td>3404.00000</td>\n",
              "    </tr>\n",
              "    <tr>\n",
              "      <th>TSH</th>\n",
              "      <td>12438.0</td>\n",
              "      <td>13.801158</td>\n",
              "      <td>1.644545</td>\n",
              "      <td>10.20000</td>\n",
              "      <td>12.9000</td>\n",
              "      <td>13.50000</td>\n",
              "      <td>14.30000</td>\n",
              "      <td>68.90000</td>\n",
              "    </tr>\n",
              "    <tr>\n",
              "      <th>gravity_u</th>\n",
              "      <td>9908.0</td>\n",
              "      <td>1.022250</td>\n",
              "      <td>0.008226</td>\n",
              "      <td>1.00000</td>\n",
              "      <td>1.0160</td>\n",
              "      <td>1.02100</td>\n",
              "      <td>1.02800</td>\n",
              "      <td>1.05000</td>\n",
              "    </tr>\n",
              "    <tr>\n",
              "      <th>nitrites_u</th>\n",
              "      <td>9918.0</td>\n",
              "      <td>0.037709</td>\n",
              "      <td>0.202310</td>\n",
              "      <td>0.00000</td>\n",
              "      <td>0.0000</td>\n",
              "      <td>0.00000</td>\n",
              "      <td>0.00000</td>\n",
              "      <td>2.00000</td>\n",
              "    </tr>\n",
              "    <tr>\n",
              "      <th>leuko_u</th>\n",
              "      <td>9931.0</td>\n",
              "      <td>40.851576</td>\n",
              "      <td>120.788718</td>\n",
              "      <td>0.00000</td>\n",
              "      <td>0.0000</td>\n",
              "      <td>0.00000</td>\n",
              "      <td>0.00000</td>\n",
              "      <td>500.00000</td>\n",
              "    </tr>\n",
              "    <tr>\n",
              "      <th>proteinuria</th>\n",
              "      <td>9932.0</td>\n",
              "      <td>0.050745</td>\n",
              "      <td>0.219488</td>\n",
              "      <td>0.00000</td>\n",
              "      <td>0.0000</td>\n",
              "      <td>0.00000</td>\n",
              "      <td>0.00000</td>\n",
              "      <td>1.00000</td>\n",
              "    </tr>\n",
              "    <tr>\n",
              "      <th>WBC</th>\n",
              "      <td>12438.0</td>\n",
              "      <td>8.279029</td>\n",
              "      <td>2.344549</td>\n",
              "      <td>1.30000</td>\n",
              "      <td>6.7000</td>\n",
              "      <td>8.00000</td>\n",
              "      <td>9.60000</td>\n",
              "      <td>24.10000</td>\n",
              "    </tr>\n",
              "    <tr>\n",
              "      <th>RBC</th>\n",
              "      <td>12438.0</td>\n",
              "      <td>4.953782</td>\n",
              "      <td>0.516850</td>\n",
              "      <td>3.00000</td>\n",
              "      <td>4.6000</td>\n",
              "      <td>4.93500</td>\n",
              "      <td>5.27000</td>\n",
              "      <td>7.80000</td>\n",
              "    </tr>\n",
              "    <tr>\n",
              "      <th>platelets</th>\n",
              "      <td>12438.0</td>\n",
              "      <td>278.554832</td>\n",
              "      <td>77.703854</td>\n",
              "      <td>49.00000</td>\n",
              "      <td>226.0000</td>\n",
              "      <td>268.00000</td>\n",
              "      <td>321.00000</td>\n",
              "      <td>808.00000</td>\n",
              "    </tr>\n",
              "    <tr>\n",
              "      <th>MCV</th>\n",
              "      <td>12438.0</td>\n",
              "      <td>83.439574</td>\n",
              "      <td>6.396095</td>\n",
              "      <td>53.60000</td>\n",
              "      <td>80.4000</td>\n",
              "      <td>84.00000</td>\n",
              "      <td>87.40000</td>\n",
              "      <td>112.70000</td>\n",
              "    </tr>\n",
              "    <tr>\n",
              "      <th>MPV</th>\n",
              "      <td>12438.0</td>\n",
              "      <td>9.382099</td>\n",
              "      <td>1.311013</td>\n",
              "      <td>5.50000</td>\n",
              "      <td>8.5000</td>\n",
              "      <td>9.20000</td>\n",
              "      <td>10.10000</td>\n",
              "      <td>19.00000</td>\n",
              "    </tr>\n",
              "    <tr>\n",
              "      <th>Charlson</th>\n",
              "      <td>12438.0</td>\n",
              "      <td>1.755427</td>\n",
              "      <td>1.218773</td>\n",
              "      <td>0.00000</td>\n",
              "      <td>1.0000</td>\n",
              "      <td>1.00000</td>\n",
              "      <td>2.00000</td>\n",
              "      <td>14.00000</td>\n",
              "    </tr>\n",
              "    <tr>\n",
              "      <th>framingham_cvd</th>\n",
              "      <td>12438.0</td>\n",
              "      <td>0.127533</td>\n",
              "      <td>0.092716</td>\n",
              "      <td>0.00731</td>\n",
              "      <td>0.0618</td>\n",
              "      <td>0.10237</td>\n",
              "      <td>0.16396</td>\n",
              "      <td>0.80222</td>\n",
              "    </tr>\n",
              "    <tr>\n",
              "      <th>antidiabetics</th>\n",
              "      <td>12438.0</td>\n",
              "      <td>0.857694</td>\n",
              "      <td>0.349378</td>\n",
              "      <td>0.00000</td>\n",
              "      <td>1.0000</td>\n",
              "      <td>1.00000</td>\n",
              "      <td>1.00000</td>\n",
              "      <td>1.00000</td>\n",
              "    </tr>\n",
              "    <tr>\n",
              "      <th>ERD</th>\n",
              "      <td>12438.0</td>\n",
              "      <td>0.006593</td>\n",
              "      <td>0.080931</td>\n",
              "      <td>0.00000</td>\n",
              "      <td>0.0000</td>\n",
              "      <td>0.00000</td>\n",
              "      <td>0.00000</td>\n",
              "      <td>1.00000</td>\n",
              "    </tr>\n",
              "    <tr>\n",
              "      <th>CVD</th>\n",
              "      <td>12438.0</td>\n",
              "      <td>0.092057</td>\n",
              "      <td>0.289117</td>\n",
              "      <td>0.00000</td>\n",
              "      <td>0.0000</td>\n",
              "      <td>0.00000</td>\n",
              "      <td>0.00000</td>\n",
              "      <td>1.00000</td>\n",
              "    </tr>\n",
              "    <tr>\n",
              "      <th>HTN</th>\n",
              "      <td>12438.0</td>\n",
              "      <td>0.318058</td>\n",
              "      <td>0.465741</td>\n",
              "      <td>0.00000</td>\n",
              "      <td>0.0000</td>\n",
              "      <td>0.00000</td>\n",
              "      <td>1.00000</td>\n",
              "      <td>1.00000</td>\n",
              "    </tr>\n",
              "    <tr>\n",
              "      <th>cancer</th>\n",
              "      <td>12438.0</td>\n",
              "      <td>0.000000</td>\n",
              "      <td>0.000000</td>\n",
              "      <td>0.00000</td>\n",
              "      <td>0.0000</td>\n",
              "      <td>0.00000</td>\n",
              "      <td>0.00000</td>\n",
              "      <td>0.00000</td>\n",
              "    </tr>\n",
              "    <tr>\n",
              "      <th>cardiovascular_meds</th>\n",
              "      <td>12438.0</td>\n",
              "      <td>0.602669</td>\n",
              "      <td>0.489365</td>\n",
              "      <td>0.00000</td>\n",
              "      <td>0.0000</td>\n",
              "      <td>1.00000</td>\n",
              "      <td>1.00000</td>\n",
              "      <td>1.00000</td>\n",
              "    </tr>\n",
              "    <tr>\n",
              "      <th>statines</th>\n",
              "      <td>12438.0</td>\n",
              "      <td>0.702203</td>\n",
              "      <td>0.457308</td>\n",
              "      <td>0.00000</td>\n",
              "      <td>0.0000</td>\n",
              "      <td>1.00000</td>\n",
              "      <td>1.00000</td>\n",
              "      <td>1.00000</td>\n",
              "    </tr>\n",
              "    <tr>\n",
              "      <th>immigrant</th>\n",
              "      <td>12438.0</td>\n",
              "      <td>0.174867</td>\n",
              "      <td>0.379869</td>\n",
              "      <td>0.00000</td>\n",
              "      <td>0.0000</td>\n",
              "      <td>0.00000</td>\n",
              "      <td>0.00000</td>\n",
              "      <td>1.00000</td>\n",
              "    </tr>\n",
              "    <tr>\n",
              "      <th>dead_5y</th>\n",
              "      <td>12438.0</td>\n",
              "      <td>0.015839</td>\n",
              "      <td>0.124856</td>\n",
              "      <td>0.00000</td>\n",
              "      <td>0.0000</td>\n",
              "      <td>0.00000</td>\n",
              "      <td>0.00000</td>\n",
              "      <td>1.00000</td>\n",
              "    </tr>\n",
              "  </tbody>\n",
              "</table>\n",
              "</div>"
            ],
            "text/plain": [
              "                       count        mean          std       min       25%  \\\n",
              "age                  12438.0   43.501126     4.802035  30.00000   41.0000   \n",
              "sex                  12438.0    1.468805     0.499046   1.00000    1.0000   \n",
              "ses                  12438.0    1.677279     0.763641   1.00000    1.0000   \n",
              "residence_cd         12438.0    1.062631     0.242307   1.00000    1.0000   \n",
              "weigh                12438.0   89.837746    19.296247  41.00000   76.0000   \n",
              "heigh                12438.0  167.943906    10.068620  91.50000  160.0000   \n",
              "BMI                  12438.0   31.871922     6.459714  15.79000   27.4000   \n",
              "bp_sys               12438.0  124.803988    13.615760  75.00000  118.0000   \n",
              "bp_dias              12438.0   77.315163     8.915362  40.00000   70.0000   \n",
              "smoking              12438.0    1.636678     0.871735   1.00000    1.0000   \n",
              "HbA1c                12438.0    7.623666     1.867250   4.00000    6.3000   \n",
              "glucose              12438.0  153.757276    64.724782  40.00000  110.0000   \n",
              "creatinin            12438.0    0.751235     0.428875   0.11000    0.6000   \n",
              "albumin              10975.0    4.327445     0.329294   2.50000    4.1000   \n",
              "alb24h                3520.0  219.855858  4084.373676   0.00000   10.0000   \n",
              "ACR                  11226.0   38.829212   117.962082   0.00000    3.8700   \n",
              "cholesterol_total    12438.0  183.736887    40.607061  68.00000  156.0000   \n",
              "LDL                  12438.0  104.314327    33.206564  30.00000   81.3000   \n",
              "HDL                  12438.0   42.296205    10.289038  11.00000   35.0000   \n",
              "triglycerides        12438.0  199.988583   152.421882  24.00000  115.0000   \n",
              "TSH                  12438.0   13.801158     1.644545  10.20000   12.9000   \n",
              "gravity_u             9908.0    1.022250     0.008226   1.00000    1.0160   \n",
              "nitrites_u            9918.0    0.037709     0.202310   0.00000    0.0000   \n",
              "leuko_u               9931.0   40.851576   120.788718   0.00000    0.0000   \n",
              "proteinuria           9932.0    0.050745     0.219488   0.00000    0.0000   \n",
              "WBC                  12438.0    8.279029     2.344549   1.30000    6.7000   \n",
              "RBC                  12438.0    4.953782     0.516850   3.00000    4.6000   \n",
              "platelets            12438.0  278.554832    77.703854  49.00000  226.0000   \n",
              "MCV                  12438.0   83.439574     6.396095  53.60000   80.4000   \n",
              "MPV                  12438.0    9.382099     1.311013   5.50000    8.5000   \n",
              "Charlson             12438.0    1.755427     1.218773   0.00000    1.0000   \n",
              "framingham_cvd       12438.0    0.127533     0.092716   0.00731    0.0618   \n",
              "antidiabetics        12438.0    0.857694     0.349378   0.00000    1.0000   \n",
              "ERD                  12438.0    0.006593     0.080931   0.00000    0.0000   \n",
              "CVD                  12438.0    0.092057     0.289117   0.00000    0.0000   \n",
              "HTN                  12438.0    0.318058     0.465741   0.00000    0.0000   \n",
              "cancer               12438.0    0.000000     0.000000   0.00000    0.0000   \n",
              "cardiovascular_meds  12438.0    0.602669     0.489365   0.00000    0.0000   \n",
              "statines             12438.0    0.702203     0.457308   0.00000    0.0000   \n",
              "immigrant            12438.0    0.174867     0.379869   0.00000    0.0000   \n",
              "dead_5y              12438.0    0.015839     0.124856   0.00000    0.0000   \n",
              "\n",
              "                           50%        75%           max  \n",
              "age                   45.00000   48.00000      49.00000  \n",
              "sex                    1.00000    2.00000       2.00000  \n",
              "ses                    1.00000    2.00000       3.00000  \n",
              "residence_cd           1.00000    1.00000       2.00000  \n",
              "weigh                 88.00000  100.00000     203.00000  \n",
              "heigh                168.00000  175.00000     202.00000  \n",
              "BMI                   31.05000   35.35000      95.55000  \n",
              "bp_sys               124.00000  130.00000     200.00000  \n",
              "bp_dias               79.00000   80.00000     135.00000  \n",
              "smoking                1.00000    3.00000       3.00000  \n",
              "HbA1c                  7.10000    8.50000      16.80000  \n",
              "glucose              134.00000  177.00000     883.00000  \n",
              "creatinin              0.71000    0.84000      11.15000  \n",
              "albumin                4.30000    4.53000       5.70000  \n",
              "alb24h                17.80000   50.00000  170385.00000  \n",
              "ACR                    7.00000   21.00000    1494.57000  \n",
              "cholesterol_total    180.00000  208.00000     525.00000  \n",
              "LDL                  101.20000  124.40000     250.00000  \n",
              "HDL                   41.00000   48.00000     136.00000  \n",
              "triglycerides        166.00000  237.00000    3404.00000  \n",
              "TSH                   13.50000   14.30000      68.90000  \n",
              "gravity_u              1.02100    1.02800       1.05000  \n",
              "nitrites_u             0.00000    0.00000       2.00000  \n",
              "leuko_u                0.00000    0.00000     500.00000  \n",
              "proteinuria            0.00000    0.00000       1.00000  \n",
              "WBC                    8.00000    9.60000      24.10000  \n",
              "RBC                    4.93500    5.27000       7.80000  \n",
              "platelets            268.00000  321.00000     808.00000  \n",
              "MCV                   84.00000   87.40000     112.70000  \n",
              "MPV                    9.20000   10.10000      19.00000  \n",
              "Charlson               1.00000    2.00000      14.00000  \n",
              "framingham_cvd         0.10237    0.16396       0.80222  \n",
              "antidiabetics          1.00000    1.00000       1.00000  \n",
              "ERD                    0.00000    0.00000       1.00000  \n",
              "CVD                    0.00000    0.00000       1.00000  \n",
              "HTN                    0.00000    1.00000       1.00000  \n",
              "cancer                 0.00000    0.00000       0.00000  \n",
              "cardiovascular_meds    1.00000    1.00000       1.00000  \n",
              "statines               1.00000    1.00000       1.00000  \n",
              "immigrant              0.00000    0.00000       1.00000  \n",
              "dead_5y                0.00000    0.00000       1.00000  "
            ]
          },
          "execution_count": 16,
          "metadata": {},
          "output_type": "execute_result"
        }
      ],
      "source": [
        "data.describe().T"
      ]
    },
    {
      "cell_type": "markdown",
      "id": "a5a76ca0-afcc-4630-bc67-e22bb42392fe",
      "metadata": {
        "id": "a5a76ca0-afcc-4630-bc67-e22bb42392fe"
      },
      "source": [
        "#### Nice, but cancer's Max is ZERO ?\n"
      ]
    },
    {
      "cell_type": "code",
      "execution_count": null,
      "id": "ad7d8af7-db95-4033-82f5-e5efaaaf7bd5",
      "metadata": {
        "id": "ad7d8af7-db95-4033-82f5-e5efaaaf7bd5",
        "outputId": "72c0c028-ff5d-4ace-8728-f38fbfb3eaca"
      },
      "outputs": [
        {
          "data": {
            "text/plain": [
              "cancer\n",
              "0    12438\n",
              "Name: count, dtype: int64"
            ]
          },
          "execution_count": 18,
          "metadata": {},
          "output_type": "execute_result"
        }
      ],
      "source": [
        "data['cancer'].value_counts()"
      ]
    },
    {
      "cell_type": "markdown",
      "id": "b6e016fd-3735-4041-8546-b3dcf4375012",
      "metadata": {
        "id": "b6e016fd-3735-4041-8546-b3dcf4375012"
      },
      "source": [
        "#### cancer has zeros all the way. Can be dropped."
      ]
    },
    {
      "cell_type": "code",
      "execution_count": null,
      "id": "da32da99-a821-4bc7-b182-33328c124ae3",
      "metadata": {
        "id": "da32da99-a821-4bc7-b182-33328c124ae3",
        "outputId": "d78dc459-a542-4de2-9efa-4b30325c0c9a"
      },
      "outputs": [
        {
          "data": {
            "text/html": [
              "<div>\n",
              "<style scoped>\n",
              "    .dataframe tbody tr th:only-of-type {\n",
              "        vertical-align: middle;\n",
              "    }\n",
              "\n",
              "    .dataframe tbody tr th {\n",
              "        vertical-align: top;\n",
              "    }\n",
              "\n",
              "    .dataframe thead th {\n",
              "        text-align: right;\n",
              "    }\n",
              "</style>\n",
              "<table border=\"1\" class=\"dataframe\">\n",
              "  <thead>\n",
              "    <tr style=\"text-align: right;\">\n",
              "      <th></th>\n",
              "      <th>age</th>\n",
              "      <th>sex</th>\n",
              "      <th>marital_status</th>\n",
              "      <th>ses</th>\n",
              "      <th>residence_cd</th>\n",
              "      <th>residence</th>\n",
              "      <th>weigh</th>\n",
              "      <th>heigh</th>\n",
              "      <th>BMI</th>\n",
              "      <th>bp_sys</th>\n",
              "      <th>...</th>\n",
              "      <th>Charlson</th>\n",
              "      <th>framingham_cvd</th>\n",
              "      <th>antidiabetics</th>\n",
              "      <th>ERD</th>\n",
              "      <th>CVD</th>\n",
              "      <th>HTN</th>\n",
              "      <th>cardiovascular_meds</th>\n",
              "      <th>statines</th>\n",
              "      <th>immigrant</th>\n",
              "      <th>dead_5y</th>\n",
              "    </tr>\n",
              "  </thead>\n",
              "  <tbody>\n",
              "    <tr>\n",
              "      <th>0</th>\n",
              "      <td>49</td>\n",
              "      <td>2</td>\n",
              "      <td>U</td>\n",
              "      <td>1</td>\n",
              "      <td>1</td>\n",
              "      <td>urban</td>\n",
              "      <td>84.0</td>\n",
              "      <td>160.0</td>\n",
              "      <td>32.79</td>\n",
              "      <td>116</td>\n",
              "      <td>...</td>\n",
              "      <td>1</td>\n",
              "      <td>0.12908</td>\n",
              "      <td>1</td>\n",
              "      <td>0</td>\n",
              "      <td>0</td>\n",
              "      <td>1</td>\n",
              "      <td>1</td>\n",
              "      <td>1</td>\n",
              "      <td>0</td>\n",
              "      <td>0</td>\n",
              "    </tr>\n",
              "    <tr>\n",
              "      <th>1</th>\n",
              "      <td>46</td>\n",
              "      <td>2</td>\n",
              "      <td>M</td>\n",
              "      <td>1</td>\n",
              "      <td>1</td>\n",
              "      <td>urban</td>\n",
              "      <td>67.0</td>\n",
              "      <td>152.0</td>\n",
              "      <td>29.38</td>\n",
              "      <td>113</td>\n",
              "      <td>...</td>\n",
              "      <td>1</td>\n",
              "      <td>0.08500</td>\n",
              "      <td>1</td>\n",
              "      <td>0</td>\n",
              "      <td>0</td>\n",
              "      <td>0</td>\n",
              "      <td>1</td>\n",
              "      <td>1</td>\n",
              "      <td>0</td>\n",
              "      <td>0</td>\n",
              "    </tr>\n",
              "    <tr>\n",
              "      <th>2</th>\n",
              "      <td>46</td>\n",
              "      <td>2</td>\n",
              "      <td>U</td>\n",
              "      <td>1</td>\n",
              "      <td>1</td>\n",
              "      <td>urban</td>\n",
              "      <td>62.4</td>\n",
              "      <td>148.0</td>\n",
              "      <td>28.31</td>\n",
              "      <td>133</td>\n",
              "      <td>...</td>\n",
              "      <td>1</td>\n",
              "      <td>0.10715</td>\n",
              "      <td>1</td>\n",
              "      <td>0</td>\n",
              "      <td>0</td>\n",
              "      <td>1</td>\n",
              "      <td>1</td>\n",
              "      <td>1</td>\n",
              "      <td>0</td>\n",
              "      <td>0</td>\n",
              "    </tr>\n",
              "    <tr>\n",
              "      <th>3</th>\n",
              "      <td>45</td>\n",
              "      <td>1</td>\n",
              "      <td>U</td>\n",
              "      <td>2</td>\n",
              "      <td>1</td>\n",
              "      <td>urban</td>\n",
              "      <td>73.9</td>\n",
              "      <td>166.0</td>\n",
              "      <td>26.85</td>\n",
              "      <td>100</td>\n",
              "      <td>...</td>\n",
              "      <td>1</td>\n",
              "      <td>0.10110</td>\n",
              "      <td>1</td>\n",
              "      <td>0</td>\n",
              "      <td>0</td>\n",
              "      <td>0</td>\n",
              "      <td>0</td>\n",
              "      <td>1</td>\n",
              "      <td>0</td>\n",
              "      <td>0</td>\n",
              "    </tr>\n",
              "    <tr>\n",
              "      <th>4</th>\n",
              "      <td>49</td>\n",
              "      <td>2</td>\n",
              "      <td>U</td>\n",
              "      <td>1</td>\n",
              "      <td>1</td>\n",
              "      <td>urban</td>\n",
              "      <td>53.0</td>\n",
              "      <td>161.0</td>\n",
              "      <td>20.45</td>\n",
              "      <td>110</td>\n",
              "      <td>...</td>\n",
              "      <td>1</td>\n",
              "      <td>0.03950</td>\n",
              "      <td>1</td>\n",
              "      <td>0</td>\n",
              "      <td>0</td>\n",
              "      <td>0</td>\n",
              "      <td>0</td>\n",
              "      <td>1</td>\n",
              "      <td>0</td>\n",
              "      <td>0</td>\n",
              "    </tr>\n",
              "  </tbody>\n",
              "</table>\n",
              "<p>5 rows × 44 columns</p>\n",
              "</div>"
            ],
            "text/plain": [
              "   age  sex marital_status  ses  residence_cd residence  weigh  heigh    BMI  \\\n",
              "0   49    2              U    1             1     urban   84.0  160.0  32.79   \n",
              "1   46    2              M    1             1     urban   67.0  152.0  29.38   \n",
              "2   46    2              U    1             1     urban   62.4  148.0  28.31   \n",
              "3   45    1              U    2             1     urban   73.9  166.0  26.85   \n",
              "4   49    2              U    1             1     urban   53.0  161.0  20.45   \n",
              "\n",
              "   bp_sys  ...  Charlson framingham_cvd  antidiabetics ERD  CVD  HTN  \\\n",
              "0     116  ...         1        0.12908              1   0    0    1   \n",
              "1     113  ...         1        0.08500              1   0    0    0   \n",
              "2     133  ...         1        0.10715              1   0    0    1   \n",
              "3     100  ...         1        0.10110              1   0    0    0   \n",
              "4     110  ...         1        0.03950              1   0    0    0   \n",
              "\n",
              "   cardiovascular_meds  statines  immigrant  dead_5y  \n",
              "0                    1         1          0        0  \n",
              "1                    1         1          0        0  \n",
              "2                    1         1          0        0  \n",
              "3                    0         1          0        0  \n",
              "4                    0         1          0        0  \n",
              "\n",
              "[5 rows x 44 columns]"
            ]
          },
          "execution_count": 20,
          "metadata": {},
          "output_type": "execute_result"
        }
      ],
      "source": [
        "data=data.drop([\"cancer\"],axis=1)\n",
        "data.head()"
      ]
    },
    {
      "cell_type": "markdown",
      "id": "ccfd8307-ed1a-41ee-abcc-ba4387f31fb2",
      "metadata": {
        "id": "ccfd8307-ed1a-41ee-abcc-ba4387f31fb2"
      },
      "source": [
        "---"
      ]
    },
    {
      "cell_type": "markdown",
      "id": "7c283f7c-60af-400f-9518-8a4761e32a9b",
      "metadata": {
        "id": "7c283f7c-60af-400f-9518-8a4761e32a9b"
      },
      "source": [
        "#### Is there any duplicates?"
      ]
    },
    {
      "cell_type": "code",
      "execution_count": null,
      "id": "2f65b8be-a934-44f8-9fb0-97a1b36727b1",
      "metadata": {
        "id": "2f65b8be-a934-44f8-9fb0-97a1b36727b1",
        "outputId": "87cbc6a4-f5c7-43f8-95db-a78831df8180"
      },
      "outputs": [
        {
          "data": {
            "text/plain": [
              "(12438, 44)"
            ]
          },
          "execution_count": 23,
          "metadata": {},
          "output_type": "execute_result"
        }
      ],
      "source": [
        "copy_data = data.copy()\n",
        "copy_data.drop_duplicates()\n",
        "copy_data.shape"
      ]
    },
    {
      "cell_type": "markdown",
      "id": "e0f530e6-c53c-4200-826d-5b5e7f44b99b",
      "metadata": {
        "id": "e0f530e6-c53c-4200-826d-5b5e7f44b99b"
      },
      "source": [
        "#### Nope."
      ]
    },
    {
      "cell_type": "markdown",
      "id": "5e8326e8-5b1a-4f5d-8399-07c2fa3c0a86",
      "metadata": {
        "id": "5e8326e8-5b1a-4f5d-8399-07c2fa3c0a86"
      },
      "source": [
        "<hr style=\"border: 2px solid black;\"/>\n"
      ]
    },
    {
      "cell_type": "markdown",
      "id": "5c4634bb",
      "metadata": {
        "id": "5c4634bb"
      },
      "source": [
        "<h2><u><b id=\"part-2-visualize\">Part 2 - Visualize</b></u></h2>"
      ]
    },
    {
      "cell_type": "markdown",
      "id": "9af91a63-2ceb-4fce-acb2-87b2a654bf3d",
      "metadata": {
        "id": "9af91a63-2ceb-4fce-acb2-87b2a654bf3d"
      },
      "source": [
        "#### Lets take a quick look at Correlations:"
      ]
    },
    {
      "cell_type": "code",
      "execution_count": null,
      "id": "b8390520-7304-41c7-a50b-919c932db37c",
      "metadata": {
        "id": "b8390520-7304-41c7-a50b-919c932db37c",
        "outputId": "1614216e-2e96-49c9-e0a3-fce423edcda6"
      },
      "outputs": [
        {
          "data": {
            "image/png": "[encoded data removed]",
            "text/plain": [
              "<Figure size 1200x800 with 2 Axes>"
            ]
          },
          "metadata": {},
          "output_type": "display_data"
        },
        {
          "data": {
            "image/png": "[encoded data removed]",
            "text/plain": [
              "<Figure size 800x600 with 1 Axes>"
            ]
          },
          "metadata": {},
          "output_type": "display_data"
        }
      ],
      "source": [
        "numeric_data = data.select_dtypes(include=['float64', 'int64'])\n",
        "plt.figure(figsize=(12,8))\n",
        "corr_matrix = numeric_data.corr()\n",
        "sns.heatmap(corr_matrix, annot=False, cmap=\"coolwarm\", vmin=-1, vmax=1)\n",
        "plt.title(\"Correlation Matrix\")\n",
        "plt.show()\n",
        "\n",
        "\n",
        "correlation_mat = data.corr(numeric_only=True)\n",
        "# Exclude diagonal and duplicate entries, and get the absolute values\n",
        "upper_triangle = correlation_mat.where(np.triu(np.ones(correlation_mat.shape), k=1).astype(bool))\n",
        "upper_triangle_abs = upper_triangle.abs().unstack()\n",
        "\n",
        "# Sort the values to get the top 10 correlations\n",
        "top_10_correlations = upper_triangle_abs.sort_values(ascending=False).head(15)\n",
        "\n",
        "plt.figure(figsize=(8, 6))\n",
        "bar_plot  = top_10_correlations.plot(kind='barh')\n",
        "\n",
        "plt.xlabel('Absolute Correlation')\n",
        "plt.ylabel('Variable Pairs')\n",
        "bar_plot.invert_yaxis()\n",
        "plt.title('Top 15 Correlations')\n",
        "plt.tight_layout()\n",
        "\n",
        "plt.show()\n"
      ]
    },
    {
      "cell_type": "markdown",
      "id": "1ffab088-8c04-4dd3-9b0f-18cdc1d14cb1",
      "metadata": {
        "id": "1ffab088-8c04-4dd3-9b0f-18cdc1d14cb1"
      },
      "source": [
        "$$\n",
        "\\text{BMI} = \\frac{\\text{weight (kg)}}{(\\text{height (m)})^2}\n",
        "$$\n"
      ]
    },
    {
      "cell_type": "markdown",
      "id": "1af922ba-b751-49b2-b06e-e561cd35c4fc",
      "metadata": {
        "id": "1af922ba-b751-49b2-b06e-e561cd35c4fc"
      },
      "source": [
        "#### - **BMI** is a more comprehensive indicator of health because it normalizes **weight** by **height**. So we can drop **weight**.<br><br>\n",
        "#### - **BMI** already accounts for **height**, and **sex** may reflect **height**, So we will drop that too.<br><br>\n",
        "#### - **HbA1c** is preferred over **glucose** because it measures blood sugar levels over a longer period of time. We can drop **glucose**.<br>"
      ]
    },
    {
      "cell_type": "markdown",
      "id": "9933afe9-c877-46d5-aa3f-887815427fd2",
      "metadata": {
        "id": "9933afe9-c877-46d5-aa3f-887815427fd2"
      },
      "source": [
        "#### - **LDL** and **cholesterol_total** are closely related, so we will drop **LDL**, like before, since:<br>\n",
        "\n",
        "$$\n",
        "\\text{Total Cholesterol} = \\text{HDL} + \\text{LDL} + \\frac{\\text{triglycerides}}{5}\n",
        "$$\n",
        "\n"
      ]
    },
    {
      "cell_type": "markdown",
      "id": "828ee6f3-d5ab-4004-80f8-caaf54aee6a2",
      "metadata": {
        "id": "828ee6f3-d5ab-4004-80f8-caaf54aee6a2"
      },
      "source": [
        "#### lets take a quick visual look before droping all, kind of because the same reasons:"
      ]
    },
    {
      "cell_type": "code",
      "execution_count": null,
      "id": "45390830-5872-440a-a17a-c543009b62e7",
      "metadata": {
        "id": "45390830-5872-440a-a17a-c543009b62e7",
        "outputId": "24cf7405-27b2-4aa0-b70e-1a00e9dcdb0b"
      },
      "outputs": [
        {
          "data": {
            "image/png": "[encoded data removed]",
            "text/plain": [
              "<Figure size 640x480 with 1 Axes>"
            ]
          },
          "metadata": {},
          "output_type": "display_data"
        },
        {
          "data": {
            "image/png": "[encoded data removed]",
            "text/plain": [
              "<Figure size 640x480 with 1 Axes>"
            ]
          },
          "metadata": {},
          "output_type": "display_data"
        },
        {
          "data": {
            "image/png": "[encoded data removed]",
            "text/plain": [
              "<Figure size 640x480 with 1 Axes>"
            ]
          },
          "metadata": {},
          "output_type": "display_data"
        }
      ],
      "source": [
        "# WEIGHT histogram\n",
        "data[\"weigh\"].hist(bins=50)\n",
        "plt.title('WEIGHT Distribution')\n",
        "plt.show()\n",
        "# BMI histogram\n",
        "data[\"BMI\"].hist(bins=50)\n",
        "plt.title('BMI Distribution')\n",
        "plt.show()\n",
        "# 1 / HEIGHT^2 histogram\n",
        "(1 / data[\"heigh\"] ** 2).hist(bins=50)\n",
        "plt.title('1 / HEIGHT^2 Distribution')\n",
        "plt.show()"
      ]
    },
    {
      "cell_type": "markdown",
      "id": "9a0250f0-cf5d-4916-8f18-62aaeccff6dd",
      "metadata": {
        "id": "9a0250f0-cf5d-4916-8f18-62aaeccff6dd"
      },
      "source": [
        "#### Pretty similar."
      ]
    },
    {
      "cell_type": "code",
      "execution_count": null,
      "id": "cfba63e1-a91b-49a9-8617-de30ed9a5f9b",
      "metadata": {
        "id": "cfba63e1-a91b-49a9-8617-de30ed9a5f9b"
      },
      "outputs": [],
      "source": [
        "data=data.drop([\"weigh\",\"glucose\",\"heigh\", \"LDL\"],axis=1)"
      ]
    },
    {
      "cell_type": "markdown",
      "id": "be3810a2-3096-4846-a49a-19809acece86",
      "metadata": {
        "id": "be3810a2-3096-4846-a49a-19809acece86"
      },
      "source": [
        "---"
      ]
    },
    {
      "cell_type": "markdown",
      "id": "04dc2857-825d-4953-8c1e-7c0a96cfcfa4",
      "metadata": {
        "id": "04dc2857-825d-4953-8c1e-7c0a96cfcfa4"
      },
      "source": [
        "### Trial and Error:\n"
      ]
    },
    {
      "cell_type": "markdown",
      "id": "3bb5339b-c7cd-42aa-932b-e7f2f5d4a93f",
      "metadata": {
        "id": "3bb5339b-c7cd-42aa-932b-e7f2f5d4a93f"
      },
      "source": [
        "#### $$\\text{ACR} = \\frac{\\text{Albumin}}{\\text{Creatinine}}$$\n",
        "#### Because it is just a relation between two paramaters we has, we can drop it\n"
      ]
    },
    {
      "cell_type": "code",
      "execution_count": null,
      "id": "9d7c04ec-11ee-4f27-b705-3de228ecb9c0",
      "metadata": {
        "id": "9d7c04ec-11ee-4f27-b705-3de228ecb9c0"
      },
      "outputs": [],
      "source": [
        "data=data.drop([\"ACR\"],axis=1)"
      ]
    },
    {
      "cell_type": "markdown",
      "id": "403109dd-b74e-4ece-9138-c9f40a522766",
      "metadata": {
        "id": "403109dd-b74e-4ece-9138-c9f40a522766"
      },
      "source": [
        "---"
      ]
    },
    {
      "cell_type": "markdown",
      "id": "d29737d7",
      "metadata": {
        "id": "d29737d7"
      },
      "source": [
        "#### Lets check if **ses** (social economic status) has a correlation to dead_5y:"
      ]
    },
    {
      "cell_type": "code",
      "execution_count": null,
      "id": "bd014e0d",
      "metadata": {
        "id": "bd014e0d",
        "outputId": "ebe1208a-1470-40e8-aa33-dd77e05e6f34"
      },
      "outputs": [
        {
          "data": {
            "text/html": [
              "<div>\n",
              "<style scoped>\n",
              "    .dataframe tbody tr th:only-of-type {\n",
              "        vertical-align: middle;\n",
              "    }\n",
              "\n",
              "    .dataframe tbody tr th {\n",
              "        vertical-align: top;\n",
              "    }\n",
              "\n",
              "    .dataframe thead th {\n",
              "        text-align: right;\n",
              "    }\n",
              "</style>\n",
              "<table border=\"1\" class=\"dataframe\">\n",
              "  <thead>\n",
              "    <tr style=\"text-align: right;\">\n",
              "      <th></th>\n",
              "      <th>ses</th>\n",
              "      <th>dead_5y</th>\n",
              "    </tr>\n",
              "  </thead>\n",
              "  <tbody>\n",
              "    <tr>\n",
              "      <th>0</th>\n",
              "      <td>1</td>\n",
              "      <td>0.012896</td>\n",
              "    </tr>\n",
              "    <tr>\n",
              "      <th>1</th>\n",
              "      <td>2</td>\n",
              "      <td>0.018252</td>\n",
              "    </tr>\n",
              "    <tr>\n",
              "      <th>2</th>\n",
              "      <td>3</td>\n",
              "      <td>0.019850</td>\n",
              "    </tr>\n",
              "  </tbody>\n",
              "</table>\n",
              "</div>"
            ],
            "text/plain": [
              "   ses   dead_5y\n",
              "0    1  0.012896\n",
              "1    2  0.018252\n",
              "2    3  0.019850"
            ]
          },
          "execution_count": 42,
          "metadata": {},
          "output_type": "execute_result"
        }
      ],
      "source": [
        "data[['ses', 'dead_5y']].groupby(['ses'], as_index = False).mean()"
      ]
    },
    {
      "cell_type": "markdown",
      "id": "c01004d6",
      "metadata": {
        "id": "c01004d6"
      },
      "source": [
        "#### Its very intresting, we assumed that the higher your **social-economic status** is, the lower your chance of **death in 5 years** would be. <br>\n",
        "#### BUT, now we understand that the exact oppsite happens. <br>\n",
        "#### Maybe it has important impact on **death in 5 years**. thats why we will not rush to drop **ses**."
      ]
    },
    {
      "cell_type": "code",
      "execution_count": null,
      "id": "55276916",
      "metadata": {
        "id": "55276916",
        "outputId": "fd64b0f2-8769-4b83-be1e-ab4eb08443fd"
      },
      "outputs": [
        {
          "data": {
            "text/html": [
              "<div>\n",
              "<style scoped>\n",
              "    .dataframe tbody tr th:only-of-type {\n",
              "        vertical-align: middle;\n",
              "    }\n",
              "\n",
              "    .dataframe tbody tr th {\n",
              "        vertical-align: top;\n",
              "    }\n",
              "\n",
              "    .dataframe thead th {\n",
              "        text-align: right;\n",
              "    }\n",
              "</style>\n",
              "<table border=\"1\" class=\"dataframe\">\n",
              "  <thead>\n",
              "    <tr style=\"text-align: right;\">\n",
              "      <th></th>\n",
              "      <th>0</th>\n",
              "    </tr>\n",
              "  </thead>\n",
              "  <tbody>\n",
              "    <tr>\n",
              "      <th>ses</th>\n",
              "      <td>1.000000</td>\n",
              "    </tr>\n",
              "    <tr>\n",
              "      <th>immigrant</th>\n",
              "      <td>0.220889</td>\n",
              "    </tr>\n",
              "    <tr>\n",
              "      <th>creatinin</th>\n",
              "      <td>0.087466</td>\n",
              "    </tr>\n",
              "    <tr>\n",
              "      <th>albumin</th>\n",
              "      <td>0.078656</td>\n",
              "    </tr>\n",
              "    <tr>\n",
              "      <th>MCV</th>\n",
              "      <td>0.077702</td>\n",
              "    </tr>\n",
              "    <tr>\n",
              "      <th>age</th>\n",
              "      <td>0.047965</td>\n",
              "    </tr>\n",
              "    <tr>\n",
              "      <th>bp_dias</th>\n",
              "      <td>0.042139</td>\n",
              "    </tr>\n",
              "    <tr>\n",
              "      <th>framingham_cvd</th>\n",
              "      <td>0.036928</td>\n",
              "    </tr>\n",
              "    <tr>\n",
              "      <th>residence_cd</th>\n",
              "      <td>0.036240</td>\n",
              "    </tr>\n",
              "    <tr>\n",
              "      <th>smoking</th>\n",
              "      <td>0.035345</td>\n",
              "    </tr>\n",
              "    <tr>\n",
              "      <th>bp_sys</th>\n",
              "      <td>0.033733</td>\n",
              "    </tr>\n",
              "    <tr>\n",
              "      <th>dead_5y</th>\n",
              "      <td>0.023255</td>\n",
              "    </tr>\n",
              "    <tr>\n",
              "      <th>RBC</th>\n",
              "      <td>0.020930</td>\n",
              "    </tr>\n",
              "    <tr>\n",
              "      <th>ERD</th>\n",
              "      <td>0.018817</td>\n",
              "    </tr>\n",
              "    <tr>\n",
              "      <th>CVD</th>\n",
              "      <td>0.016212</td>\n",
              "    </tr>\n",
              "    <tr>\n",
              "      <th>nitrites_u</th>\n",
              "      <td>0.012535</td>\n",
              "    </tr>\n",
              "    <tr>\n",
              "      <th>proteinuria</th>\n",
              "      <td>0.011938</td>\n",
              "    </tr>\n",
              "    <tr>\n",
              "      <th>HTN</th>\n",
              "      <td>0.009650</td>\n",
              "    </tr>\n",
              "    <tr>\n",
              "      <th>statines</th>\n",
              "      <td>0.007055</td>\n",
              "    </tr>\n",
              "    <tr>\n",
              "      <th>triglycerides</th>\n",
              "      <td>0.004052</td>\n",
              "    </tr>\n",
              "    <tr>\n",
              "      <th>WBC</th>\n",
              "      <td>0.002926</td>\n",
              "    </tr>\n",
              "    <tr>\n",
              "      <th>HDL</th>\n",
              "      <td>-0.002435</td>\n",
              "    </tr>\n",
              "    <tr>\n",
              "      <th>Charlson</th>\n",
              "      <td>-0.003604</td>\n",
              "    </tr>\n",
              "    <tr>\n",
              "      <th>gravity_u</th>\n",
              "      <td>-0.004592</td>\n",
              "    </tr>\n",
              "    <tr>\n",
              "      <th>alb24h</th>\n",
              "      <td>-0.005114</td>\n",
              "    </tr>\n",
              "    <tr>\n",
              "      <th>leuko_u</th>\n",
              "      <td>-0.007135</td>\n",
              "    </tr>\n",
              "    <tr>\n",
              "      <th>cholesterol_total</th>\n",
              "      <td>-0.009973</td>\n",
              "    </tr>\n",
              "    <tr>\n",
              "      <th>cardiovascular_meds</th>\n",
              "      <td>-0.013100</td>\n",
              "    </tr>\n",
              "    <tr>\n",
              "      <th>MPV</th>\n",
              "      <td>-0.018048</td>\n",
              "    </tr>\n",
              "    <tr>\n",
              "      <th>TSH</th>\n",
              "      <td>-0.019128</td>\n",
              "    </tr>\n",
              "    <tr>\n",
              "      <th>antidiabetics</th>\n",
              "      <td>-0.036531</td>\n",
              "    </tr>\n",
              "    <tr>\n",
              "      <th>platelets</th>\n",
              "      <td>-0.050711</td>\n",
              "    </tr>\n",
              "    <tr>\n",
              "      <th>BMI</th>\n",
              "      <td>-0.057412</td>\n",
              "    </tr>\n",
              "    <tr>\n",
              "      <th>HbA1c</th>\n",
              "      <td>-0.087900</td>\n",
              "    </tr>\n",
              "    <tr>\n",
              "      <th>sex</th>\n",
              "      <td>-0.092458</td>\n",
              "    </tr>\n",
              "  </tbody>\n",
              "</table>\n",
              "</div>"
            ],
            "text/plain": [
              "                            0\n",
              "ses                  1.000000\n",
              "immigrant            0.220889\n",
              "creatinin            0.087466\n",
              "albumin              0.078656\n",
              "MCV                  0.077702\n",
              "age                  0.047965\n",
              "bp_dias              0.042139\n",
              "framingham_cvd       0.036928\n",
              "residence_cd         0.036240\n",
              "smoking              0.035345\n",
              "bp_sys               0.033733\n",
              "dead_5y              0.023255\n",
              "RBC                  0.020930\n",
              "ERD                  0.018817\n",
              "CVD                  0.016212\n",
              "nitrites_u           0.012535\n",
              "proteinuria          0.011938\n",
              "HTN                  0.009650\n",
              "statines             0.007055\n",
              "triglycerides        0.004052\n",
              "WBC                  0.002926\n",
              "HDL                 -0.002435\n",
              "Charlson            -0.003604\n",
              "gravity_u           -0.004592\n",
              "alb24h              -0.005114\n",
              "leuko_u             -0.007135\n",
              "cholesterol_total   -0.009973\n",
              "cardiovascular_meds -0.013100\n",
              "MPV                 -0.018048\n",
              "TSH                 -0.019128\n",
              "antidiabetics       -0.036531\n",
              "platelets           -0.050711\n",
              "BMI                 -0.057412\n",
              "HbA1c               -0.087900\n",
              "sex                 -0.092458"
            ]
          },
          "execution_count": 44,
          "metadata": {},
          "output_type": "execute_result"
        }
      ],
      "source": [
        "# Now we'll check if ses is correlated with any variable.\n",
        "ses_corr = pd.DataFrame(data.corr(numeric_only=True).unstack()[\"ses\"])\n",
        "ses_corr.sort_values(by=0, ascending=False)"
      ]
    },
    {
      "cell_type": "markdown",
      "id": "1b433261",
      "metadata": {
        "id": "1b433261"
      },
      "source": [
        "#### We don't see a strong correlation between **ses** to anything. which is telling us again - maybe it has important impact on **death_5y**. <br>\n",
        "#### That's why we decided to keep **ses**."
      ]
    },
    {
      "cell_type": "code",
      "execution_count": null,
      "id": "56caffe6",
      "metadata": {
        "id": "56caffe6"
      },
      "outputs": [],
      "source": [
        "#data=data.drop([\"ses\"],axis=1)"
      ]
    },
    {
      "cell_type": "markdown",
      "id": "31c34771-a0ab-4618-a2e6-288a2a76958d",
      "metadata": {
        "id": "31c34771-a0ab-4618-a2e6-288a2a76958d"
      },
      "source": [
        "---"
      ]
    },
    {
      "cell_type": "markdown",
      "id": "40b11c2f",
      "metadata": {
        "id": "40b11c2f"
      },
      "source": [
        "#### Lets check if **martial_status** has a correlactaion to dead_5y"
      ]
    },
    {
      "cell_type": "code",
      "execution_count": null,
      "id": "87f58d13",
      "metadata": {
        "id": "87f58d13",
        "outputId": "f2731e60-964d-4d51-bc18-cf9c2d13dd10"
      },
      "outputs": [
        {
          "data": {
            "text/html": [
              "<div>\n",
              "<style scoped>\n",
              "    .dataframe tbody tr th:only-of-type {\n",
              "        vertical-align: middle;\n",
              "    }\n",
              "\n",
              "    .dataframe tbody tr th {\n",
              "        vertical-align: top;\n",
              "    }\n",
              "\n",
              "    .dataframe thead th {\n",
              "        text-align: right;\n",
              "    }\n",
              "</style>\n",
              "<table border=\"1\" class=\"dataframe\">\n",
              "  <thead>\n",
              "    <tr style=\"text-align: right;\">\n",
              "      <th></th>\n",
              "      <th>marital_status</th>\n",
              "      <th>dead_5y</th>\n",
              "    </tr>\n",
              "  </thead>\n",
              "  <tbody>\n",
              "    <tr>\n",
              "      <th>0</th>\n",
              "      <td>M</td>\n",
              "      <td>0.006911</td>\n",
              "    </tr>\n",
              "    <tr>\n",
              "      <th>1</th>\n",
              "      <td>U</td>\n",
              "      <td>0.035376</td>\n",
              "    </tr>\n",
              "  </tbody>\n",
              "</table>\n",
              "</div>"
            ],
            "text/plain": [
              "  marital_status   dead_5y\n",
              "0              M  0.006911\n",
              "1              U  0.035376"
            ]
          },
          "execution_count": 49,
          "metadata": {},
          "output_type": "execute_result"
        }
      ],
      "source": [
        "data[['marital_status', 'dead_5y']].groupby(['marital_status'], as_index = False).mean()"
      ]
    },
    {
      "cell_type": "markdown",
      "id": "8bcf943d",
      "metadata": {
        "id": "8bcf943d"
      },
      "source": [
        "#### Very interesting, more singles died than married people, so it's possibole it has an impact whether you die (or not) in the next 5 years. Therefore, we won't delete the column."
      ]
    },
    {
      "cell_type": "markdown",
      "id": "22cf9c4b-499b-43b2-ad3a-5c24e6394d6e",
      "metadata": {
        "id": "22cf9c4b-499b-43b2-ad3a-5c24e6394d6e"
      },
      "source": [
        "---"
      ]
    },
    {
      "cell_type": "markdown",
      "id": "c463981a",
      "metadata": {
        "id": "c463981a"
      },
      "source": [
        "#### Lets check if the residence has any correlation to death"
      ]
    },
    {
      "cell_type": "code",
      "execution_count": null,
      "id": "6f583d91",
      "metadata": {
        "id": "6f583d91",
        "outputId": "313dcde0-8964-4f0d-9abf-7755d667ce1f"
      },
      "outputs": [
        {
          "data": {
            "text/html": [
              "<div>\n",
              "<style scoped>\n",
              "    .dataframe tbody tr th:only-of-type {\n",
              "        vertical-align: middle;\n",
              "    }\n",
              "\n",
              "    .dataframe tbody tr th {\n",
              "        vertical-align: top;\n",
              "    }\n",
              "\n",
              "    .dataframe thead th {\n",
              "        text-align: right;\n",
              "    }\n",
              "</style>\n",
              "<table border=\"1\" class=\"dataframe\">\n",
              "  <thead>\n",
              "    <tr style=\"text-align: right;\">\n",
              "      <th></th>\n",
              "      <th>residence</th>\n",
              "      <th>dead_5y</th>\n",
              "    </tr>\n",
              "  </thead>\n",
              "  <tbody>\n",
              "    <tr>\n",
              "      <th>0</th>\n",
              "      <td>rural</td>\n",
              "      <td>0.016688</td>\n",
              "    </tr>\n",
              "    <tr>\n",
              "      <th>1</th>\n",
              "      <td>urban</td>\n",
              "      <td>0.015782</td>\n",
              "    </tr>\n",
              "  </tbody>\n",
              "</table>\n",
              "</div>"
            ],
            "text/plain": [
              "  residence   dead_5y\n",
              "0     rural  0.016688\n",
              "1     urban  0.015782"
            ]
          },
          "execution_count": 53,
          "metadata": {},
          "output_type": "execute_result"
        }
      ],
      "source": [
        "data[['residence', 'dead_5y']].groupby(['residence'], as_index = False).mean()"
      ]
    },
    {
      "cell_type": "markdown",
      "id": "dec9fc17",
      "metadata": {
        "id": "dec9fc17"
      },
      "source": [
        "#### Lets check if **dead_5y** is correlated with other variables when **residence** = **rural** or **urban**."
      ]
    },
    {
      "cell_type": "code",
      "execution_count": null,
      "id": "c0bfc302",
      "metadata": {
        "id": "c0bfc302",
        "outputId": "b920f7c5-62bc-43a6-d16a-545c8a8263d1"
      },
      "outputs": [
        {
          "data": {
            "text/html": [
              "<div>\n",
              "<style scoped>\n",
              "    .dataframe tbody tr th:only-of-type {\n",
              "        vertical-align: middle;\n",
              "    }\n",
              "\n",
              "    .dataframe tbody tr th {\n",
              "        vertical-align: top;\n",
              "    }\n",
              "\n",
              "    .dataframe thead th {\n",
              "        text-align: right;\n",
              "    }\n",
              "</style>\n",
              "<table border=\"1\" class=\"dataframe\">\n",
              "  <thead>\n",
              "    <tr style=\"text-align: right;\">\n",
              "      <th></th>\n",
              "      <th>dead_5y</th>\n",
              "    </tr>\n",
              "  </thead>\n",
              "  <tbody>\n",
              "    <tr>\n",
              "      <th>dead_5y</th>\n",
              "      <td>1.000000</td>\n",
              "    </tr>\n",
              "    <tr>\n",
              "      <th>TSH</th>\n",
              "      <td>0.160748</td>\n",
              "    </tr>\n",
              "    <tr>\n",
              "      <th>cholesterol_total</th>\n",
              "      <td>0.087047</td>\n",
              "    </tr>\n",
              "    <tr>\n",
              "      <th>albumin</th>\n",
              "      <td>0.049369</td>\n",
              "    </tr>\n",
              "    <tr>\n",
              "      <th>immigrant</th>\n",
              "      <td>0.048007</td>\n",
              "    </tr>\n",
              "    <tr>\n",
              "      <th>MCV</th>\n",
              "      <td>0.037593</td>\n",
              "    </tr>\n",
              "    <tr>\n",
              "      <th>ses</th>\n",
              "      <td>0.037478</td>\n",
              "    </tr>\n",
              "    <tr>\n",
              "      <th>proteinuria</th>\n",
              "      <td>0.029471</td>\n",
              "    </tr>\n",
              "    <tr>\n",
              "      <th>leuko_u</th>\n",
              "      <td>0.028031</td>\n",
              "    </tr>\n",
              "    <tr>\n",
              "      <th>HbA1c</th>\n",
              "      <td>0.025261</td>\n",
              "    </tr>\n",
              "    <tr>\n",
              "      <th>MPV</th>\n",
              "      <td>0.021465</td>\n",
              "    </tr>\n",
              "    <tr>\n",
              "      <th>triglycerides</th>\n",
              "      <td>0.020394</td>\n",
              "    </tr>\n",
              "    <tr>\n",
              "      <th>smoking</th>\n",
              "      <td>0.015777</td>\n",
              "    </tr>\n",
              "    <tr>\n",
              "      <th>age</th>\n",
              "      <td>0.014235</td>\n",
              "    </tr>\n",
              "    <tr>\n",
              "      <th>gravity_u</th>\n",
              "      <td>0.012625</td>\n",
              "    </tr>\n",
              "    <tr>\n",
              "      <th>HDL</th>\n",
              "      <td>0.010559</td>\n",
              "    </tr>\n",
              "    <tr>\n",
              "      <th>RBC</th>\n",
              "      <td>0.008372</td>\n",
              "    </tr>\n",
              "    <tr>\n",
              "      <th>WBC</th>\n",
              "      <td>0.004534</td>\n",
              "    </tr>\n",
              "    <tr>\n",
              "      <th>framingham_cvd</th>\n",
              "      <td>-0.002590</td>\n",
              "    </tr>\n",
              "    <tr>\n",
              "      <th>statines</th>\n",
              "      <td>-0.003925</td>\n",
              "    </tr>\n",
              "    <tr>\n",
              "      <th>creatinin</th>\n",
              "      <td>-0.004699</td>\n",
              "    </tr>\n",
              "    <tr>\n",
              "      <th>ERD</th>\n",
              "      <td>-0.008100</td>\n",
              "    </tr>\n",
              "    <tr>\n",
              "      <th>alb24h</th>\n",
              "      <td>-0.009024</td>\n",
              "    </tr>\n",
              "    <tr>\n",
              "      <th>BMI</th>\n",
              "      <td>-0.010610</td>\n",
              "    </tr>\n",
              "    <tr>\n",
              "      <th>HTN</th>\n",
              "      <td>-0.012015</td>\n",
              "    </tr>\n",
              "    <tr>\n",
              "      <th>bp_dias</th>\n",
              "      <td>-0.013518</td>\n",
              "    </tr>\n",
              "    <tr>\n",
              "      <th>sex</th>\n",
              "      <td>-0.013950</td>\n",
              "    </tr>\n",
              "    <tr>\n",
              "      <th>CVD</th>\n",
              "      <td>-0.017060</td>\n",
              "    </tr>\n",
              "    <tr>\n",
              "      <th>nitrites_u</th>\n",
              "      <td>-0.025517</td>\n",
              "    </tr>\n",
              "    <tr>\n",
              "      <th>bp_sys</th>\n",
              "      <td>-0.031983</td>\n",
              "    </tr>\n",
              "    <tr>\n",
              "      <th>platelets</th>\n",
              "      <td>-0.042182</td>\n",
              "    </tr>\n",
              "    <tr>\n",
              "      <th>cardiovascular_meds</th>\n",
              "      <td>-0.043284</td>\n",
              "    </tr>\n",
              "    <tr>\n",
              "      <th>antidiabetics</th>\n",
              "      <td>-0.068261</td>\n",
              "    </tr>\n",
              "    <tr>\n",
              "      <th>Charlson</th>\n",
              "      <td>-0.078843</td>\n",
              "    </tr>\n",
              "    <tr>\n",
              "      <th>residence_cd</th>\n",
              "      <td>NaN</td>\n",
              "    </tr>\n",
              "  </tbody>\n",
              "</table>\n",
              "</div>"
            ],
            "text/plain": [
              "                      dead_5y\n",
              "dead_5y              1.000000\n",
              "TSH                  0.160748\n",
              "cholesterol_total    0.087047\n",
              "albumin              0.049369\n",
              "immigrant            0.048007\n",
              "MCV                  0.037593\n",
              "ses                  0.037478\n",
              "proteinuria          0.029471\n",
              "leuko_u              0.028031\n",
              "HbA1c                0.025261\n",
              "MPV                  0.021465\n",
              "triglycerides        0.020394\n",
              "smoking              0.015777\n",
              "age                  0.014235\n",
              "gravity_u            0.012625\n",
              "HDL                  0.010559\n",
              "RBC                  0.008372\n",
              "WBC                  0.004534\n",
              "framingham_cvd      -0.002590\n",
              "statines            -0.003925\n",
              "creatinin           -0.004699\n",
              "ERD                 -0.008100\n",
              "alb24h              -0.009024\n",
              "BMI                 -0.010610\n",
              "HTN                 -0.012015\n",
              "bp_dias             -0.013518\n",
              "sex                 -0.013950\n",
              "CVD                 -0.017060\n",
              "nitrites_u          -0.025517\n",
              "bp_sys              -0.031983\n",
              "platelets           -0.042182\n",
              "cardiovascular_meds -0.043284\n",
              "antidiabetics       -0.068261\n",
              "Charlson            -0.078843\n",
              "residence_cd              NaN"
            ]
          },
          "execution_count": 55,
          "metadata": {},
          "output_type": "execute_result"
        }
      ],
      "source": [
        "#checking on rural\n",
        "corr_res = pd.DataFrame(data.loc[data.residence == 'rural'].corr(numeric_only=True)[\"dead_5y\"])\n",
        "corr_res.sort_values(by=\"dead_5y\", ascending=False)"
      ]
    },
    {
      "cell_type": "code",
      "execution_count": null,
      "id": "644af81a",
      "metadata": {
        "id": "644af81a",
        "outputId": "5650678a-edfc-465d-beb8-24fa38a63807"
      },
      "outputs": [
        {
          "data": {
            "text/html": [
              "<div>\n",
              "<style scoped>\n",
              "    .dataframe tbody tr th:only-of-type {\n",
              "        vertical-align: middle;\n",
              "    }\n",
              "\n",
              "    .dataframe tbody tr th {\n",
              "        vertical-align: top;\n",
              "    }\n",
              "\n",
              "    .dataframe thead th {\n",
              "        text-align: right;\n",
              "    }\n",
              "</style>\n",
              "<table border=\"1\" class=\"dataframe\">\n",
              "  <thead>\n",
              "    <tr style=\"text-align: right;\">\n",
              "      <th></th>\n",
              "      <th>dead_5y</th>\n",
              "    </tr>\n",
              "  </thead>\n",
              "  <tbody>\n",
              "    <tr>\n",
              "      <th>dead_5y</th>\n",
              "      <td>1.000000</td>\n",
              "    </tr>\n",
              "    <tr>\n",
              "      <th>Charlson</th>\n",
              "      <td>0.078520</td>\n",
              "    </tr>\n",
              "    <tr>\n",
              "      <th>proteinuria</th>\n",
              "      <td>0.075987</td>\n",
              "    </tr>\n",
              "    <tr>\n",
              "      <th>CVD</th>\n",
              "      <td>0.065809</td>\n",
              "    </tr>\n",
              "    <tr>\n",
              "      <th>bp_sys</th>\n",
              "      <td>0.060962</td>\n",
              "    </tr>\n",
              "    <tr>\n",
              "      <th>framingham_cvd</th>\n",
              "      <td>0.058747</td>\n",
              "    </tr>\n",
              "    <tr>\n",
              "      <th>ERD</th>\n",
              "      <td>0.056653</td>\n",
              "    </tr>\n",
              "    <tr>\n",
              "      <th>creatinin</th>\n",
              "      <td>0.050191</td>\n",
              "    </tr>\n",
              "    <tr>\n",
              "      <th>TSH</th>\n",
              "      <td>0.044155</td>\n",
              "    </tr>\n",
              "    <tr>\n",
              "      <th>smoking</th>\n",
              "      <td>0.037234</td>\n",
              "    </tr>\n",
              "    <tr>\n",
              "      <th>WBC</th>\n",
              "      <td>0.032929</td>\n",
              "    </tr>\n",
              "    <tr>\n",
              "      <th>cholesterol_total</th>\n",
              "      <td>0.032199</td>\n",
              "    </tr>\n",
              "    <tr>\n",
              "      <th>MPV</th>\n",
              "      <td>0.029733</td>\n",
              "    </tr>\n",
              "    <tr>\n",
              "      <th>immigrant</th>\n",
              "      <td>0.028526</td>\n",
              "    </tr>\n",
              "    <tr>\n",
              "      <th>HTN</th>\n",
              "      <td>0.027969</td>\n",
              "    </tr>\n",
              "    <tr>\n",
              "      <th>bp_dias</th>\n",
              "      <td>0.023592</td>\n",
              "    </tr>\n",
              "    <tr>\n",
              "      <th>ses</th>\n",
              "      <td>0.022247</td>\n",
              "    </tr>\n",
              "    <tr>\n",
              "      <th>HDL</th>\n",
              "      <td>0.019538</td>\n",
              "    </tr>\n",
              "    <tr>\n",
              "      <th>HbA1c</th>\n",
              "      <td>0.017379</td>\n",
              "    </tr>\n",
              "    <tr>\n",
              "      <th>MCV</th>\n",
              "      <td>0.012845</td>\n",
              "    </tr>\n",
              "    <tr>\n",
              "      <th>nitrites_u</th>\n",
              "      <td>0.012055</td>\n",
              "    </tr>\n",
              "    <tr>\n",
              "      <th>leuko_u</th>\n",
              "      <td>0.011824</td>\n",
              "    </tr>\n",
              "    <tr>\n",
              "      <th>age</th>\n",
              "      <td>0.009661</td>\n",
              "    </tr>\n",
              "    <tr>\n",
              "      <th>cardiovascular_meds</th>\n",
              "      <td>0.008931</td>\n",
              "    </tr>\n",
              "    <tr>\n",
              "      <th>BMI</th>\n",
              "      <td>0.008721</td>\n",
              "    </tr>\n",
              "    <tr>\n",
              "      <th>triglycerides</th>\n",
              "      <td>0.008656</td>\n",
              "    </tr>\n",
              "    <tr>\n",
              "      <th>alb24h</th>\n",
              "      <td>0.006710</td>\n",
              "    </tr>\n",
              "    <tr>\n",
              "      <th>platelets</th>\n",
              "      <td>0.005088</td>\n",
              "    </tr>\n",
              "    <tr>\n",
              "      <th>gravity_u</th>\n",
              "      <td>-0.001468</td>\n",
              "    </tr>\n",
              "    <tr>\n",
              "      <th>statines</th>\n",
              "      <td>-0.001743</td>\n",
              "    </tr>\n",
              "    <tr>\n",
              "      <th>sex</th>\n",
              "      <td>-0.006400</td>\n",
              "    </tr>\n",
              "    <tr>\n",
              "      <th>RBC</th>\n",
              "      <td>-0.011937</td>\n",
              "    </tr>\n",
              "    <tr>\n",
              "      <th>albumin</th>\n",
              "      <td>-0.036907</td>\n",
              "    </tr>\n",
              "    <tr>\n",
              "      <th>antidiabetics</th>\n",
              "      <td>-0.046535</td>\n",
              "    </tr>\n",
              "    <tr>\n",
              "      <th>residence_cd</th>\n",
              "      <td>NaN</td>\n",
              "    </tr>\n",
              "  </tbody>\n",
              "</table>\n",
              "</div>"
            ],
            "text/plain": [
              "                      dead_5y\n",
              "dead_5y              1.000000\n",
              "Charlson             0.078520\n",
              "proteinuria          0.075987\n",
              "CVD                  0.065809\n",
              "bp_sys               0.060962\n",
              "framingham_cvd       0.058747\n",
              "ERD                  0.056653\n",
              "creatinin            0.050191\n",
              "TSH                  0.044155\n",
              "smoking              0.037234\n",
              "WBC                  0.032929\n",
              "cholesterol_total    0.032199\n",
              "MPV                  0.029733\n",
              "immigrant            0.028526\n",
              "HTN                  0.027969\n",
              "bp_dias              0.023592\n",
              "ses                  0.022247\n",
              "HDL                  0.019538\n",
              "HbA1c                0.017379\n",
              "MCV                  0.012845\n",
              "nitrites_u           0.012055\n",
              "leuko_u              0.011824\n",
              "age                  0.009661\n",
              "cardiovascular_meds  0.008931\n",
              "BMI                  0.008721\n",
              "triglycerides        0.008656\n",
              "alb24h               0.006710\n",
              "platelets            0.005088\n",
              "gravity_u           -0.001468\n",
              "statines            -0.001743\n",
              "sex                 -0.006400\n",
              "RBC                 -0.011937\n",
              "albumin             -0.036907\n",
              "antidiabetics       -0.046535\n",
              "residence_cd              NaN"
            ]
          },
          "execution_count": 56,
          "metadata": {},
          "output_type": "execute_result"
        }
      ],
      "source": [
        "#checking on urban\n",
        "corr_res = pd.DataFrame(data.loc[data.residence == 'urban'].corr(numeric_only=True)[\"dead_5y\"])\n",
        "corr_res.sort_values(by=\"dead_5y\", ascending=False)"
      ]
    },
    {
      "cell_type": "code",
      "execution_count": null,
      "id": "78f980f9",
      "metadata": {
        "id": "78f980f9"
      },
      "outputs": [],
      "source": [
        "data=data.drop([\"residence\",\"residence_cd\"],axis=1)"
      ]
    },
    {
      "cell_type": "markdown",
      "id": "ef93a3fe",
      "metadata": {
        "id": "ef93a3fe"
      },
      "source": [
        "#### we found that there is no correlation between **dead_5y** and other variables when **residence** = **rural** or **urban**, and on average the same amount of people died from both places. so we will delete the **residence** column."
      ]
    },
    {
      "cell_type": "code",
      "execution_count": null,
      "id": "fba9cba9",
      "metadata": {
        "id": "fba9cba9",
        "outputId": "b299917a-63d7-447b-8c95-a0a0cb914415"
      },
      "outputs": [
        {
          "data": {
            "text/html": [
              "<div>\n",
              "<style scoped>\n",
              "    .dataframe tbody tr th:only-of-type {\n",
              "        vertical-align: middle;\n",
              "    }\n",
              "\n",
              "    .dataframe tbody tr th {\n",
              "        vertical-align: top;\n",
              "    }\n",
              "\n",
              "    .dataframe thead th {\n",
              "        text-align: right;\n",
              "    }\n",
              "</style>\n",
              "<table border=\"1\" class=\"dataframe\">\n",
              "  <thead>\n",
              "    <tr style=\"text-align: right;\">\n",
              "      <th></th>\n",
              "      <th>age</th>\n",
              "      <th>sex</th>\n",
              "      <th>marital_status</th>\n",
              "      <th>ses</th>\n",
              "      <th>BMI</th>\n",
              "      <th>bp_sys</th>\n",
              "      <th>bp_dias</th>\n",
              "      <th>bp_cat</th>\n",
              "      <th>smoking</th>\n",
              "      <th>smoking_status</th>\n",
              "      <th>...</th>\n",
              "      <th>Charlson</th>\n",
              "      <th>framingham_cvd</th>\n",
              "      <th>antidiabetics</th>\n",
              "      <th>ERD</th>\n",
              "      <th>CVD</th>\n",
              "      <th>HTN</th>\n",
              "      <th>cardiovascular_meds</th>\n",
              "      <th>statines</th>\n",
              "      <th>immigrant</th>\n",
              "      <th>dead_5y</th>\n",
              "    </tr>\n",
              "  </thead>\n",
              "  <tbody>\n",
              "    <tr>\n",
              "      <th>0</th>\n",
              "      <td>49</td>\n",
              "      <td>2</td>\n",
              "      <td>U</td>\n",
              "      <td>1</td>\n",
              "      <td>32.79</td>\n",
              "      <td>116</td>\n",
              "      <td>66</td>\n",
              "      <td>Normal</td>\n",
              "      <td>1</td>\n",
              "      <td>non_smoker</td>\n",
              "      <td>...</td>\n",
              "      <td>1</td>\n",
              "      <td>0.12908</td>\n",
              "      <td>1</td>\n",
              "      <td>0</td>\n",
              "      <td>0</td>\n",
              "      <td>1</td>\n",
              "      <td>1</td>\n",
              "      <td>1</td>\n",
              "      <td>0</td>\n",
              "      <td>0</td>\n",
              "    </tr>\n",
              "    <tr>\n",
              "      <th>1</th>\n",
              "      <td>46</td>\n",
              "      <td>2</td>\n",
              "      <td>M</td>\n",
              "      <td>1</td>\n",
              "      <td>29.38</td>\n",
              "      <td>113</td>\n",
              "      <td>74</td>\n",
              "      <td>Normal</td>\n",
              "      <td>1</td>\n",
              "      <td>non_smoker</td>\n",
              "      <td>...</td>\n",
              "      <td>1</td>\n",
              "      <td>0.08500</td>\n",
              "      <td>1</td>\n",
              "      <td>0</td>\n",
              "      <td>0</td>\n",
              "      <td>0</td>\n",
              "      <td>1</td>\n",
              "      <td>1</td>\n",
              "      <td>0</td>\n",
              "      <td>0</td>\n",
              "    </tr>\n",
              "    <tr>\n",
              "      <th>2</th>\n",
              "      <td>46</td>\n",
              "      <td>2</td>\n",
              "      <td>U</td>\n",
              "      <td>1</td>\n",
              "      <td>28.31</td>\n",
              "      <td>133</td>\n",
              "      <td>87</td>\n",
              "      <td>Pre-HTN</td>\n",
              "      <td>1</td>\n",
              "      <td>non_smoker</td>\n",
              "      <td>...</td>\n",
              "      <td>1</td>\n",
              "      <td>0.10715</td>\n",
              "      <td>1</td>\n",
              "      <td>0</td>\n",
              "      <td>0</td>\n",
              "      <td>1</td>\n",
              "      <td>1</td>\n",
              "      <td>1</td>\n",
              "      <td>0</td>\n",
              "      <td>0</td>\n",
              "    </tr>\n",
              "    <tr>\n",
              "      <th>3</th>\n",
              "      <td>45</td>\n",
              "      <td>1</td>\n",
              "      <td>U</td>\n",
              "      <td>2</td>\n",
              "      <td>26.85</td>\n",
              "      <td>100</td>\n",
              "      <td>63</td>\n",
              "      <td>Normal</td>\n",
              "      <td>3</td>\n",
              "      <td>current_smoker</td>\n",
              "      <td>...</td>\n",
              "      <td>1</td>\n",
              "      <td>0.10110</td>\n",
              "      <td>1</td>\n",
              "      <td>0</td>\n",
              "      <td>0</td>\n",
              "      <td>0</td>\n",
              "      <td>0</td>\n",
              "      <td>1</td>\n",
              "      <td>0</td>\n",
              "      <td>0</td>\n",
              "    </tr>\n",
              "    <tr>\n",
              "      <th>4</th>\n",
              "      <td>49</td>\n",
              "      <td>2</td>\n",
              "      <td>U</td>\n",
              "      <td>1</td>\n",
              "      <td>20.45</td>\n",
              "      <td>110</td>\n",
              "      <td>70</td>\n",
              "      <td>Normal</td>\n",
              "      <td>1</td>\n",
              "      <td>non_smoker</td>\n",
              "      <td>...</td>\n",
              "      <td>1</td>\n",
              "      <td>0.03950</td>\n",
              "      <td>1</td>\n",
              "      <td>0</td>\n",
              "      <td>0</td>\n",
              "      <td>0</td>\n",
              "      <td>0</td>\n",
              "      <td>1</td>\n",
              "      <td>0</td>\n",
              "      <td>0</td>\n",
              "    </tr>\n",
              "    <tr>\n",
              "      <th>5</th>\n",
              "      <td>41</td>\n",
              "      <td>1</td>\n",
              "      <td>M</td>\n",
              "      <td>1</td>\n",
              "      <td>28.86</td>\n",
              "      <td>115</td>\n",
              "      <td>80</td>\n",
              "      <td>Normal</td>\n",
              "      <td>3</td>\n",
              "      <td>current_smoker</td>\n",
              "      <td>...</td>\n",
              "      <td>1</td>\n",
              "      <td>0.15690</td>\n",
              "      <td>1</td>\n",
              "      <td>0</td>\n",
              "      <td>0</td>\n",
              "      <td>0</td>\n",
              "      <td>1</td>\n",
              "      <td>0</td>\n",
              "      <td>0</td>\n",
              "      <td>0</td>\n",
              "    </tr>\n",
              "    <tr>\n",
              "      <th>6</th>\n",
              "      <td>46</td>\n",
              "      <td>2</td>\n",
              "      <td>U</td>\n",
              "      <td>2</td>\n",
              "      <td>30.27</td>\n",
              "      <td>123</td>\n",
              "      <td>84</td>\n",
              "      <td>Normal</td>\n",
              "      <td>3</td>\n",
              "      <td>current_smoker</td>\n",
              "      <td>...</td>\n",
              "      <td>1</td>\n",
              "      <td>0.12122</td>\n",
              "      <td>1</td>\n",
              "      <td>0</td>\n",
              "      <td>0</td>\n",
              "      <td>1</td>\n",
              "      <td>1</td>\n",
              "      <td>0</td>\n",
              "      <td>0</td>\n",
              "      <td>0</td>\n",
              "    </tr>\n",
              "    <tr>\n",
              "      <th>7</th>\n",
              "      <td>47</td>\n",
              "      <td>1</td>\n",
              "      <td>M</td>\n",
              "      <td>2</td>\n",
              "      <td>27.92</td>\n",
              "      <td>120</td>\n",
              "      <td>80</td>\n",
              "      <td>Normal</td>\n",
              "      <td>1</td>\n",
              "      <td>non_smoker</td>\n",
              "      <td>...</td>\n",
              "      <td>2</td>\n",
              "      <td>0.11748</td>\n",
              "      <td>1</td>\n",
              "      <td>0</td>\n",
              "      <td>0</td>\n",
              "      <td>0</td>\n",
              "      <td>1</td>\n",
              "      <td>1</td>\n",
              "      <td>0</td>\n",
              "      <td>0</td>\n",
              "    </tr>\n",
              "    <tr>\n",
              "      <th>8</th>\n",
              "      <td>42</td>\n",
              "      <td>1</td>\n",
              "      <td>M</td>\n",
              "      <td>1</td>\n",
              "      <td>28.41</td>\n",
              "      <td>110</td>\n",
              "      <td>60</td>\n",
              "      <td>Normal</td>\n",
              "      <td>1</td>\n",
              "      <td>non_smoker</td>\n",
              "      <td>...</td>\n",
              "      <td>1</td>\n",
              "      <td>0.04838</td>\n",
              "      <td>0</td>\n",
              "      <td>0</td>\n",
              "      <td>0</td>\n",
              "      <td>0</td>\n",
              "      <td>0</td>\n",
              "      <td>0</td>\n",
              "      <td>0</td>\n",
              "      <td>0</td>\n",
              "    </tr>\n",
              "    <tr>\n",
              "      <th>9</th>\n",
              "      <td>44</td>\n",
              "      <td>2</td>\n",
              "      <td>M</td>\n",
              "      <td>1</td>\n",
              "      <td>26.77</td>\n",
              "      <td>137</td>\n",
              "      <td>76</td>\n",
              "      <td>Pre-HTN</td>\n",
              "      <td>1</td>\n",
              "      <td>non_smoker</td>\n",
              "      <td>...</td>\n",
              "      <td>2</td>\n",
              "      <td>0.09586</td>\n",
              "      <td>1</td>\n",
              "      <td>0</td>\n",
              "      <td>0</td>\n",
              "      <td>0</td>\n",
              "      <td>0</td>\n",
              "      <td>0</td>\n",
              "      <td>0</td>\n",
              "      <td>0</td>\n",
              "    </tr>\n",
              "    <tr>\n",
              "      <th>10</th>\n",
              "      <td>33</td>\n",
              "      <td>1</td>\n",
              "      <td>M</td>\n",
              "      <td>1</td>\n",
              "      <td>32.72</td>\n",
              "      <td>130</td>\n",
              "      <td>80</td>\n",
              "      <td>Pre-HTN</td>\n",
              "      <td>1</td>\n",
              "      <td>non_smoker</td>\n",
              "      <td>...</td>\n",
              "      <td>1</td>\n",
              "      <td>0.03946</td>\n",
              "      <td>1</td>\n",
              "      <td>0</td>\n",
              "      <td>0</td>\n",
              "      <td>1</td>\n",
              "      <td>1</td>\n",
              "      <td>1</td>\n",
              "      <td>0</td>\n",
              "      <td>0</td>\n",
              "    </tr>\n",
              "    <tr>\n",
              "      <th>11</th>\n",
              "      <td>45</td>\n",
              "      <td>1</td>\n",
              "      <td>M</td>\n",
              "      <td>1</td>\n",
              "      <td>27.78</td>\n",
              "      <td>108</td>\n",
              "      <td>69</td>\n",
              "      <td>Normal</td>\n",
              "      <td>3</td>\n",
              "      <td>current_smoker</td>\n",
              "      <td>...</td>\n",
              "      <td>1</td>\n",
              "      <td>0.15619</td>\n",
              "      <td>1</td>\n",
              "      <td>0</td>\n",
              "      <td>0</td>\n",
              "      <td>0</td>\n",
              "      <td>0</td>\n",
              "      <td>1</td>\n",
              "      <td>0</td>\n",
              "      <td>0</td>\n",
              "    </tr>\n",
              "    <tr>\n",
              "      <th>12</th>\n",
              "      <td>44</td>\n",
              "      <td>2</td>\n",
              "      <td>M</td>\n",
              "      <td>1</td>\n",
              "      <td>23.85</td>\n",
              "      <td>106</td>\n",
              "      <td>70</td>\n",
              "      <td>Normal</td>\n",
              "      <td>1</td>\n",
              "      <td>non_smoker</td>\n",
              "      <td>...</td>\n",
              "      <td>1</td>\n",
              "      <td>0.08461</td>\n",
              "      <td>1</td>\n",
              "      <td>0</td>\n",
              "      <td>0</td>\n",
              "      <td>0</td>\n",
              "      <td>0</td>\n",
              "      <td>1</td>\n",
              "      <td>0</td>\n",
              "      <td>0</td>\n",
              "    </tr>\n",
              "    <tr>\n",
              "      <th>13</th>\n",
              "      <td>43</td>\n",
              "      <td>1</td>\n",
              "      <td>M</td>\n",
              "      <td>1</td>\n",
              "      <td>28.60</td>\n",
              "      <td>129</td>\n",
              "      <td>84</td>\n",
              "      <td>Normal</td>\n",
              "      <td>3</td>\n",
              "      <td>current_smoker</td>\n",
              "      <td>...</td>\n",
              "      <td>1</td>\n",
              "      <td>0.23632</td>\n",
              "      <td>1</td>\n",
              "      <td>0</td>\n",
              "      <td>0</td>\n",
              "      <td>0</td>\n",
              "      <td>0</td>\n",
              "      <td>0</td>\n",
              "      <td>0</td>\n",
              "      <td>0</td>\n",
              "    </tr>\n",
              "    <tr>\n",
              "      <th>14</th>\n",
              "      <td>48</td>\n",
              "      <td>1</td>\n",
              "      <td>M</td>\n",
              "      <td>1</td>\n",
              "      <td>20.83</td>\n",
              "      <td>115</td>\n",
              "      <td>65</td>\n",
              "      <td>Normal</td>\n",
              "      <td>2</td>\n",
              "      <td>past_smoker</td>\n",
              "      <td>...</td>\n",
              "      <td>1</td>\n",
              "      <td>0.11165</td>\n",
              "      <td>1</td>\n",
              "      <td>0</td>\n",
              "      <td>0</td>\n",
              "      <td>0</td>\n",
              "      <td>0</td>\n",
              "      <td>1</td>\n",
              "      <td>0</td>\n",
              "      <td>0</td>\n",
              "    </tr>\n",
              "    <tr>\n",
              "      <th>15</th>\n",
              "      <td>45</td>\n",
              "      <td>2</td>\n",
              "      <td>M</td>\n",
              "      <td>2</td>\n",
              "      <td>22.60</td>\n",
              "      <td>100</td>\n",
              "      <td>60</td>\n",
              "      <td>Normal</td>\n",
              "      <td>1</td>\n",
              "      <td>non_smoker</td>\n",
              "      <td>...</td>\n",
              "      <td>2</td>\n",
              "      <td>0.08174</td>\n",
              "      <td>1</td>\n",
              "      <td>0</td>\n",
              "      <td>0</td>\n",
              "      <td>0</td>\n",
              "      <td>0</td>\n",
              "      <td>1</td>\n",
              "      <td>0</td>\n",
              "      <td>0</td>\n",
              "    </tr>\n",
              "    <tr>\n",
              "      <th>16</th>\n",
              "      <td>46</td>\n",
              "      <td>1</td>\n",
              "      <td>U</td>\n",
              "      <td>2</td>\n",
              "      <td>31.21</td>\n",
              "      <td>125</td>\n",
              "      <td>74</td>\n",
              "      <td>Normal</td>\n",
              "      <td>3</td>\n",
              "      <td>current_smoker</td>\n",
              "      <td>...</td>\n",
              "      <td>1</td>\n",
              "      <td>0.18142</td>\n",
              "      <td>1</td>\n",
              "      <td>0</td>\n",
              "      <td>0</td>\n",
              "      <td>0</td>\n",
              "      <td>0</td>\n",
              "      <td>1</td>\n",
              "      <td>1</td>\n",
              "      <td>0</td>\n",
              "    </tr>\n",
              "    <tr>\n",
              "      <th>17</th>\n",
              "      <td>49</td>\n",
              "      <td>2</td>\n",
              "      <td>M</td>\n",
              "      <td>2</td>\n",
              "      <td>31.24</td>\n",
              "      <td>130</td>\n",
              "      <td>89</td>\n",
              "      <td>Pre-HTN</td>\n",
              "      <td>1</td>\n",
              "      <td>non_smoker</td>\n",
              "      <td>...</td>\n",
              "      <td>1</td>\n",
              "      <td>0.11276</td>\n",
              "      <td>1</td>\n",
              "      <td>0</td>\n",
              "      <td>0</td>\n",
              "      <td>1</td>\n",
              "      <td>1</td>\n",
              "      <td>1</td>\n",
              "      <td>1</td>\n",
              "      <td>0</td>\n",
              "    </tr>\n",
              "    <tr>\n",
              "      <th>18</th>\n",
              "      <td>39</td>\n",
              "      <td>1</td>\n",
              "      <td>M</td>\n",
              "      <td>2</td>\n",
              "      <td>35.01</td>\n",
              "      <td>129</td>\n",
              "      <td>84</td>\n",
              "      <td>Normal</td>\n",
              "      <td>2</td>\n",
              "      <td>past_smoker</td>\n",
              "      <td>...</td>\n",
              "      <td>3</td>\n",
              "      <td>0.07689</td>\n",
              "      <td>1</td>\n",
              "      <td>0</td>\n",
              "      <td>1</td>\n",
              "      <td>0</td>\n",
              "      <td>1</td>\n",
              "      <td>1</td>\n",
              "      <td>0</td>\n",
              "      <td>0</td>\n",
              "    </tr>\n",
              "    <tr>\n",
              "      <th>19</th>\n",
              "      <td>45</td>\n",
              "      <td>1</td>\n",
              "      <td>U</td>\n",
              "      <td>2</td>\n",
              "      <td>29.06</td>\n",
              "      <td>117</td>\n",
              "      <td>86</td>\n",
              "      <td>Pre-HTN</td>\n",
              "      <td>1</td>\n",
              "      <td>non_smoker</td>\n",
              "      <td>...</td>\n",
              "      <td>1</td>\n",
              "      <td>0.08349</td>\n",
              "      <td>1</td>\n",
              "      <td>0</td>\n",
              "      <td>0</td>\n",
              "      <td>0</td>\n",
              "      <td>1</td>\n",
              "      <td>0</td>\n",
              "      <td>1</td>\n",
              "      <td>0</td>\n",
              "    </tr>\n",
              "  </tbody>\n",
              "</table>\n",
              "<p>20 rows × 37 columns</p>\n",
              "</div>"
            ],
            "text/plain": [
              "    age  sex marital_status  ses    BMI  bp_sys  bp_dias   bp_cat  smoking  \\\n",
              "0    49    2              U    1  32.79     116       66   Normal        1   \n",
              "1    46    2              M    1  29.38     113       74   Normal        1   \n",
              "2    46    2              U    1  28.31     133       87  Pre-HTN        1   \n",
              "3    45    1              U    2  26.85     100       63   Normal        3   \n",
              "4    49    2              U    1  20.45     110       70   Normal        1   \n",
              "5    41    1              M    1  28.86     115       80   Normal        3   \n",
              "6    46    2              U    2  30.27     123       84   Normal        3   \n",
              "7    47    1              M    2  27.92     120       80   Normal        1   \n",
              "8    42    1              M    1  28.41     110       60   Normal        1   \n",
              "9    44    2              M    1  26.77     137       76  Pre-HTN        1   \n",
              "10   33    1              M    1  32.72     130       80  Pre-HTN        1   \n",
              "11   45    1              M    1  27.78     108       69   Normal        3   \n",
              "12   44    2              M    1  23.85     106       70   Normal        1   \n",
              "13   43    1              M    1  28.60     129       84   Normal        3   \n",
              "14   48    1              M    1  20.83     115       65   Normal        2   \n",
              "15   45    2              M    2  22.60     100       60   Normal        1   \n",
              "16   46    1              U    2  31.21     125       74   Normal        3   \n",
              "17   49    2              M    2  31.24     130       89  Pre-HTN        1   \n",
              "18   39    1              M    2  35.01     129       84   Normal        2   \n",
              "19   45    1              U    2  29.06     117       86  Pre-HTN        1   \n",
              "\n",
              "    smoking_status  ...  Charlson  framingham_cvd  antidiabetics  ERD  CVD  \\\n",
              "0       non_smoker  ...         1         0.12908              1    0    0   \n",
              "1       non_smoker  ...         1         0.08500              1    0    0   \n",
              "2       non_smoker  ...         1         0.10715              1    0    0   \n",
              "3   current_smoker  ...         1         0.10110              1    0    0   \n",
              "4       non_smoker  ...         1         0.03950              1    0    0   \n",
              "5   current_smoker  ...         1         0.15690              1    0    0   \n",
              "6   current_smoker  ...         1         0.12122              1    0    0   \n",
              "7       non_smoker  ...         2         0.11748              1    0    0   \n",
              "8       non_smoker  ...         1         0.04838              0    0    0   \n",
              "9       non_smoker  ...         2         0.09586              1    0    0   \n",
              "10      non_smoker  ...         1         0.03946              1    0    0   \n",
              "11  current_smoker  ...         1         0.15619              1    0    0   \n",
              "12      non_smoker  ...         1         0.08461              1    0    0   \n",
              "13  current_smoker  ...         1         0.23632              1    0    0   \n",
              "14     past_smoker  ...         1         0.11165              1    0    0   \n",
              "15      non_smoker  ...         2         0.08174              1    0    0   \n",
              "16  current_smoker  ...         1         0.18142              1    0    0   \n",
              "17      non_smoker  ...         1         0.11276              1    0    0   \n",
              "18     past_smoker  ...         3         0.07689              1    0    1   \n",
              "19      non_smoker  ...         1         0.08349              1    0    0   \n",
              "\n",
              "    HTN  cardiovascular_meds  statines  immigrant  dead_5y  \n",
              "0     1                    1         1          0        0  \n",
              "1     0                    1         1          0        0  \n",
              "2     1                    1         1          0        0  \n",
              "3     0                    0         1          0        0  \n",
              "4     0                    0         1          0        0  \n",
              "5     0                    1         0          0        0  \n",
              "6     1                    1         0          0        0  \n",
              "7     0                    1         1          0        0  \n",
              "8     0                    0         0          0        0  \n",
              "9     0                    0         0          0        0  \n",
              "10    1                    1         1          0        0  \n",
              "11    0                    0         1          0        0  \n",
              "12    0                    0         1          0        0  \n",
              "13    0                    0         0          0        0  \n",
              "14    0                    0         1          0        0  \n",
              "15    0                    0         1          0        0  \n",
              "16    0                    0         1          1        0  \n",
              "17    1                    1         1          1        0  \n",
              "18    0                    1         1          0        0  \n",
              "19    0                    1         0          1        0  \n",
              "\n",
              "[20 rows x 37 columns]"
            ]
          },
          "execution_count": 59,
          "metadata": {},
          "output_type": "execute_result"
        }
      ],
      "source": [
        "data.head(20)"
      ]
    },
    {
      "cell_type": "markdown",
      "id": "213930a5",
      "metadata": {
        "id": "213930a5"
      },
      "source": [
        "#### bp_cat is based on bp_sys and bp_dias. This means that this column depends on other columns. we consider dropping it."
      ]
    },
    {
      "cell_type": "code",
      "execution_count": null,
      "id": "3f81719e",
      "metadata": {
        "id": "3f81719e",
        "outputId": "89b5e5d6-1f65-4447-c3bd-09afc01a9bfb"
      },
      "outputs": [
        {
          "data": {
            "text/html": [
              "<div>\n",
              "<style scoped>\n",
              "    .dataframe tbody tr th:only-of-type {\n",
              "        vertical-align: middle;\n",
              "    }\n",
              "\n",
              "    .dataframe tbody tr th {\n",
              "        vertical-align: top;\n",
              "    }\n",
              "\n",
              "    .dataframe thead th {\n",
              "        text-align: right;\n",
              "    }\n",
              "</style>\n",
              "<table border=\"1\" class=\"dataframe\">\n",
              "  <thead>\n",
              "    <tr style=\"text-align: right;\">\n",
              "      <th></th>\n",
              "      <th>bp_cat</th>\n",
              "      <th>dead_5y</th>\n",
              "    </tr>\n",
              "  </thead>\n",
              "  <tbody>\n",
              "    <tr>\n",
              "      <th>4</th>\n",
              "      <td>Pre-HTN</td>\n",
              "      <td>0.012816</td>\n",
              "    </tr>\n",
              "    <tr>\n",
              "      <th>3</th>\n",
              "      <td>Normal</td>\n",
              "      <td>0.013074</td>\n",
              "    </tr>\n",
              "    <tr>\n",
              "      <th>0</th>\n",
              "      <td>HTN-G1</td>\n",
              "      <td>0.021289</td>\n",
              "    </tr>\n",
              "    <tr>\n",
              "      <th>1</th>\n",
              "      <td>HTN-G2</td>\n",
              "      <td>0.057221</td>\n",
              "    </tr>\n",
              "    <tr>\n",
              "      <th>2</th>\n",
              "      <td>HTN-G3</td>\n",
              "      <td>0.080000</td>\n",
              "    </tr>\n",
              "  </tbody>\n",
              "</table>\n",
              "</div>"
            ],
            "text/plain": [
              "    bp_cat   dead_5y\n",
              "4  Pre-HTN  0.012816\n",
              "3   Normal  0.013074\n",
              "0   HTN-G1  0.021289\n",
              "1   HTN-G2  0.057221\n",
              "2   HTN-G3  0.080000"
            ]
          },
          "execution_count": 61,
          "metadata": {},
          "output_type": "execute_result"
        }
      ],
      "source": [
        "data[['bp_cat', 'dead_5y']].groupby(['bp_cat'], as_index = False).mean().sort_values(by=\"dead_5y\")"
      ]
    },
    {
      "cell_type": "markdown",
      "id": "d2550154",
      "metadata": {
        "id": "d2550154"
      },
      "source": [
        "levels of blood pressure (low to high):<br>\n",
        "Normal <br>\n",
        "Pre-HTN <br>\n",
        "HTN-G1 <br>\n",
        "HTN-G2 <br>\n",
        "HTN-G3 <br>\n",
        "\n",
        "#### we can see that the higher your blood pressure is, the higher your chance to die in the next 5 years (except of Normal and Pre-HTN which are almost the same). <br>\n",
        "#### at first glance, we wanted to delete bp_cat because of common sense telling us that because this column depends on other columns it should be dropped. <br>\n",
        "#### BUT, bp_cat is a categorized value which based on 2 continuous variables. bp_cat can also simplify the information that bp_sys and bp_dias contain and by that the model can learn better. <br>\n",
        "#### So, bp_cat will not be dropped.\n"
      ]
    },
    {
      "cell_type": "markdown",
      "id": "6629379c-55f6-4241-aca0-14a800e7511f",
      "metadata": {
        "id": "6629379c-55f6-4241-aca0-14a800e7511f"
      },
      "source": [
        "---"
      ]
    },
    {
      "cell_type": "markdown",
      "id": "f0ca23c0-2c31-4d1f-9b1b-a5c1ec53c353",
      "metadata": {
        "id": "f0ca23c0-2c31-4d1f-9b1b-a5c1ec53c353"
      },
      "source": [
        "#### we can see also that smoking_status is equal to smoking (non_smoker=1,past_smoker=2,current_smoker=3)"
      ]
    },
    {
      "cell_type": "code",
      "execution_count": null,
      "id": "58d37467",
      "metadata": {
        "id": "58d37467"
      },
      "outputs": [],
      "source": [
        "data=data.drop([\"smoking_status\"],axis=1)"
      ]
    },
    {
      "cell_type": "markdown",
      "id": "e282b2dd-fd4b-4fb6-93da-66e7d29f223a",
      "metadata": {
        "id": "e282b2dd-fd4b-4fb6-93da-66e7d29f223a"
      },
      "source": [
        "---"
      ]
    },
    {
      "cell_type": "markdown",
      "id": "3b2626b9",
      "metadata": {
        "id": "3b2626b9"
      },
      "source": [
        "#### Lets check if immigrants have more chance of dying - making sense"
      ]
    },
    {
      "cell_type": "code",
      "execution_count": null,
      "id": "971cb4ac",
      "metadata": {
        "id": "971cb4ac",
        "outputId": "32a00fcd-b43b-46c4-e463-91945a1ff3b7"
      },
      "outputs": [
        {
          "data": {
            "text/html": [
              "<div>\n",
              "<style scoped>\n",
              "    .dataframe tbody tr th:only-of-type {\n",
              "        vertical-align: middle;\n",
              "    }\n",
              "\n",
              "    .dataframe tbody tr th {\n",
              "        vertical-align: top;\n",
              "    }\n",
              "\n",
              "    .dataframe thead th {\n",
              "        text-align: right;\n",
              "    }\n",
              "</style>\n",
              "<table border=\"1\" class=\"dataframe\">\n",
              "  <thead>\n",
              "    <tr style=\"text-align: right;\">\n",
              "      <th></th>\n",
              "      <th>immigrant</th>\n",
              "      <th>dead_5y</th>\n",
              "    </tr>\n",
              "  </thead>\n",
              "  <tbody>\n",
              "    <tr>\n",
              "      <th>0</th>\n",
              "      <td>0</td>\n",
              "      <td>0.014128</td>\n",
              "    </tr>\n",
              "    <tr>\n",
              "      <th>1</th>\n",
              "      <td>1</td>\n",
              "      <td>0.023908</td>\n",
              "    </tr>\n",
              "  </tbody>\n",
              "</table>\n",
              "</div>"
            ],
            "text/plain": [
              "   immigrant   dead_5y\n",
              "0          0  0.014128\n",
              "1          1  0.023908"
            ]
          },
          "execution_count": 68,
          "metadata": {},
          "output_type": "execute_result"
        }
      ],
      "source": [
        "data[['immigrant', 'dead_5y']].groupby(['immigrant'], as_index = False).mean()"
      ]
    },
    {
      "cell_type": "code",
      "execution_count": null,
      "id": "0896a6ea",
      "metadata": {
        "id": "0896a6ea",
        "outputId": "b096e52e-5534-4233-98d3-2625cb8afdf3"
      },
      "outputs": [
        {
          "data": {
            "text/html": [
              "<div>\n",
              "<style scoped>\n",
              "    .dataframe tbody tr th:only-of-type {\n",
              "        vertical-align: middle;\n",
              "    }\n",
              "\n",
              "    .dataframe tbody tr th {\n",
              "        vertical-align: top;\n",
              "    }\n",
              "\n",
              "    .dataframe thead th {\n",
              "        text-align: right;\n",
              "    }\n",
              "</style>\n",
              "<table border=\"1\" class=\"dataframe\">\n",
              "  <thead>\n",
              "    <tr style=\"text-align: right;\">\n",
              "      <th>dead_5y</th>\n",
              "      <th>0</th>\n",
              "      <th>1</th>\n",
              "    </tr>\n",
              "    <tr>\n",
              "      <th>immigrant</th>\n",
              "      <th></th>\n",
              "      <th></th>\n",
              "    </tr>\n",
              "  </thead>\n",
              "  <tbody>\n",
              "    <tr>\n",
              "      <th>0</th>\n",
              "      <td>10118</td>\n",
              "      <td>145</td>\n",
              "    </tr>\n",
              "    <tr>\n",
              "      <th>1</th>\n",
              "      <td>2123</td>\n",
              "      <td>52</td>\n",
              "    </tr>\n",
              "  </tbody>\n",
              "</table>\n",
              "</div>"
            ],
            "text/plain": [
              "dead_5y        0    1\n",
              "immigrant            \n",
              "0          10118  145\n",
              "1           2123   52"
            ]
          },
          "execution_count": 69,
          "metadata": {},
          "output_type": "execute_result"
        }
      ],
      "source": [
        "pd.crosstab(data[\"immigrant\"], data['dead_5y'])"
      ]
    },
    {
      "cell_type": "markdown",
      "id": "c150bdcd",
      "metadata": {
        "id": "c150bdcd"
      },
      "source": [
        "\n",
        "#### Immigrants have a higher probability of dying compared to non-immigrants. Therefore, we will retain this parameter."
      ]
    },
    {
      "cell_type": "markdown",
      "id": "99086db9-0e3d-433d-939d-976ac672442d",
      "metadata": {
        "id": "99086db9-0e3d-433d-939d-976ac672442d"
      },
      "source": [
        "<hr style=\"border: 2px solid black;\"/>\n"
      ]
    },
    {
      "cell_type": "markdown",
      "id": "75c772f8",
      "metadata": {
        "id": "75c772f8"
      },
      "source": [
        " <h2><u><b id=\"Part-3-Fixing-the-data\">Part 3 - Fixing the data</b></u></h2>"
      ]
    },
    {
      "cell_type": "code",
      "execution_count": null,
      "id": "d4237b8d",
      "metadata": {
        "id": "d4237b8d",
        "outputId": "3a55548e-12e4-44a1-dc7a-8e18a612b2ba"
      },
      "outputs": [
        {
          "name": "stderr",
          "output_type": "stream",
          "text": [
            "/var/folders/ps/dps722j958z9xcw1thb4fcqr0000gn/T/ipykernel_85693/3752300158.py:16: FutureWarning: \n",
            "\n",
            "Passing `palette` without assigning `hue` is deprecated and will be removed in v0.14.0. Assign the `x` variable to `hue` and set `legend=False` for the same effect.\n",
            "\n",
            "  sns.barplot(x='Features', y='Missing Values', data=missing_df, palette='coolwarm')  # Removed hue\n"
          ]
        },
        {
          "data": {
            "image/png": "[encoded data removed]",
            "text/plain": [
              "<Figure size 1000x600 with 1 Axes>"
            ]
          },
          "metadata": {},
          "output_type": "display_data"
        }
      ],
      "source": [
        "#Missing Data per Feature Graph\n",
        "\n",
        "import matplotlib.pyplot as plt\n",
        "import seaborn as sns\n",
        "import pandas as pd\n",
        "\n",
        "# Checking for missing data\n",
        "missing_data = data.isnull().sum()\n",
        "missing_percentage = (missing_data / len(data)) * 100\n",
        "\n",
        "# Create a DataFrame for plotting\n",
        "missing_df = pd.DataFrame({'Features': missing_data.index, 'Missing Values': missing_data.values})\n",
        "\n",
        "# Plot missing data\n",
        "plt.figure(figsize=(10, 6))\n",
        "sns.barplot(x='Features', y='Missing Values', data=missing_df, palette='coolwarm')  # Removed hue\n",
        "plt.xticks(rotation=90)\n",
        "plt.title(\"Missing Data per Feature\")\n",
        "plt.ylabel(\"Number of Missing Values\")\n",
        "plt.show()\n",
        "\n",
        "\n",
        "\n",
        "\n",
        "\n"
      ]
    },
    {
      "cell_type": "code",
      "execution_count": null,
      "id": "63014323",
      "metadata": {
        "id": "63014323"
      },
      "outputs": [],
      "source": [
        "data=data.drop([\"alb24h\"],axis=1)"
      ]
    },
    {
      "cell_type": "markdown",
      "id": "c37182ba",
      "metadata": {
        "id": "c37182ba"
      },
      "source": [
        "\n",
        "#### We removed alb24h because there were too few values. Filling them with the median could distort the results since it relates to kidney issues, so we chose to leave it out."
      ]
    },
    {
      "cell_type": "markdown",
      "id": "3c6ded5c-82e5-419e-a1d3-723708022697",
      "metadata": {
        "id": "3c6ded5c-82e5-419e-a1d3-723708022697"
      },
      "source": [
        "#### For example: **ERD**"
      ]
    },
    {
      "cell_type": "code",
      "execution_count": null,
      "id": "333f2b17-104a-4d41-9b55-899b7502d1bc",
      "metadata": {
        "id": "333f2b17-104a-4d41-9b55-899b7502d1bc",
        "outputId": "0c5e8cac-8046-4e89-ea43-74780affdb0e"
      },
      "outputs": [
        {
          "data": {
            "text/html": [
              "<div>\n",
              "<style scoped>\n",
              "    .dataframe tbody tr th:only-of-type {\n",
              "        vertical-align: middle;\n",
              "    }\n",
              "\n",
              "    .dataframe tbody tr th {\n",
              "        vertical-align: top;\n",
              "    }\n",
              "\n",
              "    .dataframe thead th {\n",
              "        text-align: right;\n",
              "    }\n",
              "</style>\n",
              "<table border=\"1\" class=\"dataframe\">\n",
              "  <thead>\n",
              "    <tr style=\"text-align: right;\">\n",
              "      <th></th>\n",
              "      <th>ERD</th>\n",
              "      <th>dead_5y</th>\n",
              "    </tr>\n",
              "  </thead>\n",
              "  <tbody>\n",
              "    <tr>\n",
              "      <th>0</th>\n",
              "      <td>0</td>\n",
              "      <td>0.015296</td>\n",
              "    </tr>\n",
              "    <tr>\n",
              "      <th>1</th>\n",
              "      <td>1</td>\n",
              "      <td>0.097561</td>\n",
              "    </tr>\n",
              "  </tbody>\n",
              "</table>\n",
              "</div>"
            ],
            "text/plain": [
              "   ERD   dead_5y\n",
              "0    0  0.015296\n",
              "1    1  0.097561"
            ]
          },
          "execution_count": 77,
          "metadata": {},
          "output_type": "execute_result"
        }
      ],
      "source": [
        "data[['ERD', 'dead_5y']].groupby(['ERD'], as_index = False).mean()"
      ]
    },
    {
      "cell_type": "markdown",
      "id": "088ec4fd-1993-4eb2-9667-7c9c775aa595",
      "metadata": {
        "id": "088ec4fd-1993-4eb2-9667-7c9c775aa595"
      },
      "source": [
        "#### Chances higher by almost 6.5 times."
      ]
    },
    {
      "cell_type": "markdown",
      "id": "45cf2c85-b8cd-4d98-ab6f-e304bcbbe3ea",
      "metadata": {
        "id": "45cf2c85-b8cd-4d98-ab6f-e304bcbbe3ea"
      },
      "source": [
        "---"
      ]
    },
    {
      "cell_type": "markdown",
      "id": "5515897f",
      "metadata": {
        "id": "5515897f"
      },
      "source": [
        "#### Fill all the NULLS:"
      ]
    },
    {
      "cell_type": "code",
      "execution_count": null,
      "id": "91dbbccf",
      "metadata": {
        "id": "91dbbccf"
      },
      "outputs": [],
      "source": [
        "# Columns to fill missing values\n",
        "columns_to_fill = ['albumin', 'gravity_u', 'nitrites_u', 'leuko_u', 'proteinuria']\n",
        "\n",
        "for column in columns_to_fill:\n",
        "    data[column] = data[column].fillna(data[column].median())  # Assign the result back to the DataFrame\n"
      ]
    },
    {
      "cell_type": "code",
      "execution_count": null,
      "id": "a3a97e13",
      "metadata": {
        "id": "a3a97e13",
        "outputId": "c15044c6-67e3-4899-fd4d-1ef850e21133"
      },
      "outputs": [
        {
          "data": {
            "text/html": [
              "<div>\n",
              "<style scoped>\n",
              "    .dataframe tbody tr th:only-of-type {\n",
              "        vertical-align: middle;\n",
              "    }\n",
              "\n",
              "    .dataframe tbody tr th {\n",
              "        vertical-align: top;\n",
              "    }\n",
              "\n",
              "    .dataframe thead th {\n",
              "        text-align: right;\n",
              "    }\n",
              "</style>\n",
              "<table border=\"1\" class=\"dataframe\">\n",
              "  <thead>\n",
              "    <tr style=\"text-align: right;\">\n",
              "      <th></th>\n",
              "      <th>age</th>\n",
              "      <th>sex</th>\n",
              "      <th>marital_status</th>\n",
              "      <th>ses</th>\n",
              "      <th>BMI</th>\n",
              "      <th>bp_sys</th>\n",
              "      <th>bp_dias</th>\n",
              "      <th>bp_cat</th>\n",
              "      <th>smoking</th>\n",
              "      <th>HbA1c</th>\n",
              "      <th>...</th>\n",
              "      <th>Charlson</th>\n",
              "      <th>framingham_cvd</th>\n",
              "      <th>antidiabetics</th>\n",
              "      <th>ERD</th>\n",
              "      <th>CVD</th>\n",
              "      <th>HTN</th>\n",
              "      <th>cardiovascular_meds</th>\n",
              "      <th>statines</th>\n",
              "      <th>immigrant</th>\n",
              "      <th>dead_5y</th>\n",
              "    </tr>\n",
              "  </thead>\n",
              "  <tbody>\n",
              "    <tr>\n",
              "      <th>0</th>\n",
              "      <td>49</td>\n",
              "      <td>2</td>\n",
              "      <td>U</td>\n",
              "      <td>1</td>\n",
              "      <td>32.79</td>\n",
              "      <td>116</td>\n",
              "      <td>66</td>\n",
              "      <td>Normal</td>\n",
              "      <td>1</td>\n",
              "      <td>11.0</td>\n",
              "      <td>...</td>\n",
              "      <td>1</td>\n",
              "      <td>0.12908</td>\n",
              "      <td>1</td>\n",
              "      <td>0</td>\n",
              "      <td>0</td>\n",
              "      <td>1</td>\n",
              "      <td>1</td>\n",
              "      <td>1</td>\n",
              "      <td>0</td>\n",
              "      <td>0</td>\n",
              "    </tr>\n",
              "    <tr>\n",
              "      <th>1</th>\n",
              "      <td>46</td>\n",
              "      <td>2</td>\n",
              "      <td>M</td>\n",
              "      <td>1</td>\n",
              "      <td>29.38</td>\n",
              "      <td>113</td>\n",
              "      <td>74</td>\n",
              "      <td>Normal</td>\n",
              "      <td>1</td>\n",
              "      <td>7.0</td>\n",
              "      <td>...</td>\n",
              "      <td>1</td>\n",
              "      <td>0.08500</td>\n",
              "      <td>1</td>\n",
              "      <td>0</td>\n",
              "      <td>0</td>\n",
              "      <td>0</td>\n",
              "      <td>1</td>\n",
              "      <td>1</td>\n",
              "      <td>0</td>\n",
              "      <td>0</td>\n",
              "    </tr>\n",
              "    <tr>\n",
              "      <th>2</th>\n",
              "      <td>46</td>\n",
              "      <td>2</td>\n",
              "      <td>U</td>\n",
              "      <td>1</td>\n",
              "      <td>28.31</td>\n",
              "      <td>133</td>\n",
              "      <td>87</td>\n",
              "      <td>Pre-HTN</td>\n",
              "      <td>1</td>\n",
              "      <td>11.8</td>\n",
              "      <td>...</td>\n",
              "      <td>1</td>\n",
              "      <td>0.10715</td>\n",
              "      <td>1</td>\n",
              "      <td>0</td>\n",
              "      <td>0</td>\n",
              "      <td>1</td>\n",
              "      <td>1</td>\n",
              "      <td>1</td>\n",
              "      <td>0</td>\n",
              "      <td>0</td>\n",
              "    </tr>\n",
              "    <tr>\n",
              "      <th>3</th>\n",
              "      <td>45</td>\n",
              "      <td>1</td>\n",
              "      <td>U</td>\n",
              "      <td>2</td>\n",
              "      <td>26.85</td>\n",
              "      <td>100</td>\n",
              "      <td>63</td>\n",
              "      <td>Normal</td>\n",
              "      <td>3</td>\n",
              "      <td>6.9</td>\n",
              "      <td>...</td>\n",
              "      <td>1</td>\n",
              "      <td>0.10110</td>\n",
              "      <td>1</td>\n",
              "      <td>0</td>\n",
              "      <td>0</td>\n",
              "      <td>0</td>\n",
              "      <td>0</td>\n",
              "      <td>1</td>\n",
              "      <td>0</td>\n",
              "      <td>0</td>\n",
              "    </tr>\n",
              "    <tr>\n",
              "      <th>4</th>\n",
              "      <td>49</td>\n",
              "      <td>2</td>\n",
              "      <td>U</td>\n",
              "      <td>1</td>\n",
              "      <td>20.45</td>\n",
              "      <td>110</td>\n",
              "      <td>70</td>\n",
              "      <td>Normal</td>\n",
              "      <td>1</td>\n",
              "      <td>8.7</td>\n",
              "      <td>...</td>\n",
              "      <td>1</td>\n",
              "      <td>0.03950</td>\n",
              "      <td>1</td>\n",
              "      <td>0</td>\n",
              "      <td>0</td>\n",
              "      <td>0</td>\n",
              "      <td>0</td>\n",
              "      <td>1</td>\n",
              "      <td>0</td>\n",
              "      <td>0</td>\n",
              "    </tr>\n",
              "    <tr>\n",
              "      <th>...</th>\n",
              "      <td>...</td>\n",
              "      <td>...</td>\n",
              "      <td>...</td>\n",
              "      <td>...</td>\n",
              "      <td>...</td>\n",
              "      <td>...</td>\n",
              "      <td>...</td>\n",
              "      <td>...</td>\n",
              "      <td>...</td>\n",
              "      <td>...</td>\n",
              "      <td>...</td>\n",
              "      <td>...</td>\n",
              "      <td>...</td>\n",
              "      <td>...</td>\n",
              "      <td>...</td>\n",
              "      <td>...</td>\n",
              "      <td>...</td>\n",
              "      <td>...</td>\n",
              "      <td>...</td>\n",
              "      <td>...</td>\n",
              "      <td>...</td>\n",
              "    </tr>\n",
              "    <tr>\n",
              "      <th>12433</th>\n",
              "      <td>46</td>\n",
              "      <td>1</td>\n",
              "      <td>U</td>\n",
              "      <td>2</td>\n",
              "      <td>18.78</td>\n",
              "      <td>130</td>\n",
              "      <td>80</td>\n",
              "      <td>Pre-HTN</td>\n",
              "      <td>1</td>\n",
              "      <td>7.3</td>\n",
              "      <td>...</td>\n",
              "      <td>1</td>\n",
              "      <td>0.11655</td>\n",
              "      <td>1</td>\n",
              "      <td>0</td>\n",
              "      <td>0</td>\n",
              "      <td>0</td>\n",
              "      <td>1</td>\n",
              "      <td>0</td>\n",
              "      <td>0</td>\n",
              "      <td>0</td>\n",
              "    </tr>\n",
              "    <tr>\n",
              "      <th>12434</th>\n",
              "      <td>45</td>\n",
              "      <td>2</td>\n",
              "      <td>M</td>\n",
              "      <td>1</td>\n",
              "      <td>38.16</td>\n",
              "      <td>100</td>\n",
              "      <td>60</td>\n",
              "      <td>Normal</td>\n",
              "      <td>1</td>\n",
              "      <td>6.8</td>\n",
              "      <td>...</td>\n",
              "      <td>1</td>\n",
              "      <td>0.05701</td>\n",
              "      <td>1</td>\n",
              "      <td>0</td>\n",
              "      <td>0</td>\n",
              "      <td>0</td>\n",
              "      <td>0</td>\n",
              "      <td>1</td>\n",
              "      <td>0</td>\n",
              "      <td>0</td>\n",
              "    </tr>\n",
              "    <tr>\n",
              "      <th>12435</th>\n",
              "      <td>49</td>\n",
              "      <td>1</td>\n",
              "      <td>U</td>\n",
              "      <td>1</td>\n",
              "      <td>21.77</td>\n",
              "      <td>104</td>\n",
              "      <td>69</td>\n",
              "      <td>Normal</td>\n",
              "      <td>3</td>\n",
              "      <td>7.7</td>\n",
              "      <td>...</td>\n",
              "      <td>3</td>\n",
              "      <td>0.41620</td>\n",
              "      <td>0</td>\n",
              "      <td>0</td>\n",
              "      <td>1</td>\n",
              "      <td>1</td>\n",
              "      <td>1</td>\n",
              "      <td>1</td>\n",
              "      <td>0</td>\n",
              "      <td>0</td>\n",
              "    </tr>\n",
              "    <tr>\n",
              "      <th>12436</th>\n",
              "      <td>47</td>\n",
              "      <td>2</td>\n",
              "      <td>M</td>\n",
              "      <td>1</td>\n",
              "      <td>35.60</td>\n",
              "      <td>96</td>\n",
              "      <td>61</td>\n",
              "      <td>Normal</td>\n",
              "      <td>1</td>\n",
              "      <td>6.2</td>\n",
              "      <td>...</td>\n",
              "      <td>1</td>\n",
              "      <td>0.03483</td>\n",
              "      <td>1</td>\n",
              "      <td>0</td>\n",
              "      <td>0</td>\n",
              "      <td>0</td>\n",
              "      <td>0</td>\n",
              "      <td>1</td>\n",
              "      <td>0</td>\n",
              "      <td>0</td>\n",
              "    </tr>\n",
              "    <tr>\n",
              "      <th>12437</th>\n",
              "      <td>49</td>\n",
              "      <td>2</td>\n",
              "      <td>M</td>\n",
              "      <td>2</td>\n",
              "      <td>23.01</td>\n",
              "      <td>113</td>\n",
              "      <td>65</td>\n",
              "      <td>Normal</td>\n",
              "      <td>3</td>\n",
              "      <td>7.6</td>\n",
              "      <td>...</td>\n",
              "      <td>1</td>\n",
              "      <td>0.08328</td>\n",
              "      <td>1</td>\n",
              "      <td>0</td>\n",
              "      <td>0</td>\n",
              "      <td>0</td>\n",
              "      <td>1</td>\n",
              "      <td>1</td>\n",
              "      <td>1</td>\n",
              "      <td>0</td>\n",
              "    </tr>\n",
              "  </tbody>\n",
              "</table>\n",
              "<p>12438 rows × 35 columns</p>\n",
              "</div>"
            ],
            "text/plain": [
              "       age  sex marital_status  ses    BMI  bp_sys  bp_dias   bp_cat  smoking  \\\n",
              "0       49    2              U    1  32.79     116       66   Normal        1   \n",
              "1       46    2              M    1  29.38     113       74   Normal        1   \n",
              "2       46    2              U    1  28.31     133       87  Pre-HTN        1   \n",
              "3       45    1              U    2  26.85     100       63   Normal        3   \n",
              "4       49    2              U    1  20.45     110       70   Normal        1   \n",
              "...    ...  ...            ...  ...    ...     ...      ...      ...      ...   \n",
              "12433   46    1              U    2  18.78     130       80  Pre-HTN        1   \n",
              "12434   45    2              M    1  38.16     100       60   Normal        1   \n",
              "12435   49    1              U    1  21.77     104       69   Normal        3   \n",
              "12436   47    2              M    1  35.60      96       61   Normal        1   \n",
              "12437   49    2              M    2  23.01     113       65   Normal        3   \n",
              "\n",
              "       HbA1c  ...  Charlson  framingham_cvd  antidiabetics  ERD  CVD  HTN  \\\n",
              "0       11.0  ...         1         0.12908              1    0    0    1   \n",
              "1        7.0  ...         1         0.08500              1    0    0    0   \n",
              "2       11.8  ...         1         0.10715              1    0    0    1   \n",
              "3        6.9  ...         1         0.10110              1    0    0    0   \n",
              "4        8.7  ...         1         0.03950              1    0    0    0   \n",
              "...      ...  ...       ...             ...            ...  ...  ...  ...   \n",
              "12433    7.3  ...         1         0.11655              1    0    0    0   \n",
              "12434    6.8  ...         1         0.05701              1    0    0    0   \n",
              "12435    7.7  ...         3         0.41620              0    0    1    1   \n",
              "12436    6.2  ...         1         0.03483              1    0    0    0   \n",
              "12437    7.6  ...         1         0.08328              1    0    0    0   \n",
              "\n",
              "       cardiovascular_meds  statines  immigrant  dead_5y  \n",
              "0                        1         1          0        0  \n",
              "1                        1         1          0        0  \n",
              "2                        1         1          0        0  \n",
              "3                        0         1          0        0  \n",
              "4                        0         1          0        0  \n",
              "...                    ...       ...        ...      ...  \n",
              "12433                    1         0          0        0  \n",
              "12434                    0         1          0        0  \n",
              "12435                    1         1          0        0  \n",
              "12436                    0         1          0        0  \n",
              "12437                    1         1          1        0  \n",
              "\n",
              "[12438 rows x 35 columns]"
            ]
          },
          "execution_count": 82,
          "metadata": {},
          "output_type": "execute_result"
        }
      ],
      "source": [
        "data"
      ]
    },
    {
      "cell_type": "code",
      "execution_count": null,
      "id": "d7dc3dd9",
      "metadata": {
        "id": "d7dc3dd9",
        "outputId": "ab162927-359f-4457-fcc4-3921f471cac1"
      },
      "outputs": [
        {
          "data": {
            "text/plain": [
              "dead_5y\n",
              "0    12241\n",
              "1      197\n",
              "Name: count, dtype: int64"
            ]
          },
          "execution_count": 83,
          "metadata": {},
          "output_type": "execute_result"
        }
      ],
      "source": [
        "data['dead_5y'].value_counts()"
      ]
    },
    {
      "cell_type": "markdown",
      "id": "669b03fd",
      "metadata": {
        "id": "669b03fd"
      },
      "source": [
        "#### We must balance this data by over sampling!\n",
        "\n",
        "#### But, First:"
      ]
    },
    {
      "cell_type": "code",
      "execution_count": null,
      "id": "fe2b3f2d",
      "metadata": {
        "id": "fe2b3f2d",
        "outputId": "d736d3c0-9030-4e2f-e05f-8e79477cd04a"
      },
      "outputs": [
        {
          "data": {
            "text/html": [
              "<div>\n",
              "<style scoped>\n",
              "    .dataframe tbody tr th:only-of-type {\n",
              "        vertical-align: middle;\n",
              "    }\n",
              "\n",
              "    .dataframe tbody tr th {\n",
              "        vertical-align: top;\n",
              "    }\n",
              "\n",
              "    .dataframe thead th {\n",
              "        text-align: right;\n",
              "    }\n",
              "</style>\n",
              "<table border=\"1\" class=\"dataframe\">\n",
              "  <thead>\n",
              "    <tr style=\"text-align: right;\">\n",
              "      <th></th>\n",
              "      <th>age</th>\n",
              "      <th>sex</th>\n",
              "      <th>marital_status</th>\n",
              "      <th>ses</th>\n",
              "      <th>BMI</th>\n",
              "      <th>bp_sys</th>\n",
              "      <th>bp_dias</th>\n",
              "      <th>bp_cat</th>\n",
              "      <th>smoking</th>\n",
              "      <th>HbA1c</th>\n",
              "      <th>...</th>\n",
              "      <th>Charlson</th>\n",
              "      <th>framingham_cvd</th>\n",
              "      <th>antidiabetics</th>\n",
              "      <th>ERD</th>\n",
              "      <th>CVD</th>\n",
              "      <th>HTN</th>\n",
              "      <th>cardiovascular_meds</th>\n",
              "      <th>statines</th>\n",
              "      <th>immigrant</th>\n",
              "      <th>dead_5y</th>\n",
              "    </tr>\n",
              "  </thead>\n",
              "  <tbody>\n",
              "    <tr>\n",
              "      <th>0</th>\n",
              "      <td>49</td>\n",
              "      <td>2</td>\n",
              "      <td>0</td>\n",
              "      <td>1</td>\n",
              "      <td>32.79</td>\n",
              "      <td>116</td>\n",
              "      <td>66</td>\n",
              "      <td>Normal</td>\n",
              "      <td>1</td>\n",
              "      <td>11.0</td>\n",
              "      <td>...</td>\n",
              "      <td>1</td>\n",
              "      <td>0.12908</td>\n",
              "      <td>1</td>\n",
              "      <td>0</td>\n",
              "      <td>0</td>\n",
              "      <td>1</td>\n",
              "      <td>1</td>\n",
              "      <td>1</td>\n",
              "      <td>0</td>\n",
              "      <td>0</td>\n",
              "    </tr>\n",
              "    <tr>\n",
              "      <th>1</th>\n",
              "      <td>46</td>\n",
              "      <td>2</td>\n",
              "      <td>1</td>\n",
              "      <td>1</td>\n",
              "      <td>29.38</td>\n",
              "      <td>113</td>\n",
              "      <td>74</td>\n",
              "      <td>Normal</td>\n",
              "      <td>1</td>\n",
              "      <td>7.0</td>\n",
              "      <td>...</td>\n",
              "      <td>1</td>\n",
              "      <td>0.08500</td>\n",
              "      <td>1</td>\n",
              "      <td>0</td>\n",
              "      <td>0</td>\n",
              "      <td>0</td>\n",
              "      <td>1</td>\n",
              "      <td>1</td>\n",
              "      <td>0</td>\n",
              "      <td>0</td>\n",
              "    </tr>\n",
              "    <tr>\n",
              "      <th>2</th>\n",
              "      <td>46</td>\n",
              "      <td>2</td>\n",
              "      <td>0</td>\n",
              "      <td>1</td>\n",
              "      <td>28.31</td>\n",
              "      <td>133</td>\n",
              "      <td>87</td>\n",
              "      <td>Pre-HTN</td>\n",
              "      <td>1</td>\n",
              "      <td>11.8</td>\n",
              "      <td>...</td>\n",
              "      <td>1</td>\n",
              "      <td>0.10715</td>\n",
              "      <td>1</td>\n",
              "      <td>0</td>\n",
              "      <td>0</td>\n",
              "      <td>1</td>\n",
              "      <td>1</td>\n",
              "      <td>1</td>\n",
              "      <td>0</td>\n",
              "      <td>0</td>\n",
              "    </tr>\n",
              "    <tr>\n",
              "      <th>3</th>\n",
              "      <td>45</td>\n",
              "      <td>1</td>\n",
              "      <td>0</td>\n",
              "      <td>2</td>\n",
              "      <td>26.85</td>\n",
              "      <td>100</td>\n",
              "      <td>63</td>\n",
              "      <td>Normal</td>\n",
              "      <td>3</td>\n",
              "      <td>6.9</td>\n",
              "      <td>...</td>\n",
              "      <td>1</td>\n",
              "      <td>0.10110</td>\n",
              "      <td>1</td>\n",
              "      <td>0</td>\n",
              "      <td>0</td>\n",
              "      <td>0</td>\n",
              "      <td>0</td>\n",
              "      <td>1</td>\n",
              "      <td>0</td>\n",
              "      <td>0</td>\n",
              "    </tr>\n",
              "    <tr>\n",
              "      <th>4</th>\n",
              "      <td>49</td>\n",
              "      <td>2</td>\n",
              "      <td>0</td>\n",
              "      <td>1</td>\n",
              "      <td>20.45</td>\n",
              "      <td>110</td>\n",
              "      <td>70</td>\n",
              "      <td>Normal</td>\n",
              "      <td>1</td>\n",
              "      <td>8.7</td>\n",
              "      <td>...</td>\n",
              "      <td>1</td>\n",
              "      <td>0.03950</td>\n",
              "      <td>1</td>\n",
              "      <td>0</td>\n",
              "      <td>0</td>\n",
              "      <td>0</td>\n",
              "      <td>0</td>\n",
              "      <td>1</td>\n",
              "      <td>0</td>\n",
              "      <td>0</td>\n",
              "    </tr>\n",
              "  </tbody>\n",
              "</table>\n",
              "<p>5 rows × 35 columns</p>\n",
              "</div>"
            ],
            "text/plain": [
              "   age  sex  marital_status  ses    BMI  bp_sys  bp_dias   bp_cat  smoking  \\\n",
              "0   49    2               0    1  32.79     116       66   Normal        1   \n",
              "1   46    2               1    1  29.38     113       74   Normal        1   \n",
              "2   46    2               0    1  28.31     133       87  Pre-HTN        1   \n",
              "3   45    1               0    2  26.85     100       63   Normal        3   \n",
              "4   49    2               0    1  20.45     110       70   Normal        1   \n",
              "\n",
              "   HbA1c  ...  Charlson  framingham_cvd  antidiabetics  ERD  CVD  HTN  \\\n",
              "0   11.0  ...         1         0.12908              1    0    0    1   \n",
              "1    7.0  ...         1         0.08500              1    0    0    0   \n",
              "2   11.8  ...         1         0.10715              1    0    0    1   \n",
              "3    6.9  ...         1         0.10110              1    0    0    0   \n",
              "4    8.7  ...         1         0.03950              1    0    0    0   \n",
              "\n",
              "   cardiovascular_meds  statines  immigrant  dead_5y  \n",
              "0                    1         1          0        0  \n",
              "1                    1         1          0        0  \n",
              "2                    1         1          0        0  \n",
              "3                    0         1          0        0  \n",
              "4                    0         1          0        0  \n",
              "\n",
              "[5 rows x 35 columns]"
            ]
          },
          "execution_count": 85,
          "metadata": {},
          "output_type": "execute_result"
        }
      ],
      "source": [
        "data['marital_status'] = data['marital_status'].map({'U':0, 'M':1}).astype(int)\n",
        "data.head()"
      ]
    },
    {
      "cell_type": "markdown",
      "id": "37c3d55e",
      "metadata": {
        "id": "37c3d55e"
      },
      "source": [
        "#### Over sampling for the data:"
      ]
    },
    {
      "cell_type": "code",
      "execution_count": null,
      "id": "0f872099",
      "metadata": {
        "id": "0f872099",
        "outputId": "b9e6eebd-e3f8-4ced-acd0-1c621c537d6b"
      },
      "outputs": [
        {
          "name": "stdout",
          "output_type": "stream",
          "text": [
            "Original dataset shape: dead_5y\n",
            "0    12241\n",
            "1      197\n",
            "Name: count, dtype: int64\n",
            "Resampled dataset shape: dead_5y\n",
            "0    12241\n",
            "1    12241\n",
            "Name: count, dtype: int64\n",
            "Training set shape: dead_5y\n",
            "1    8588\n",
            "0    8549\n",
            "Name: count, dtype: int64\n",
            "Test set shape: dead_5y\n",
            "0    3692\n",
            "1    3653\n",
            "Name: count, dtype: int64\n"
          ]
        }
      ],
      "source": [
        "from imblearn.over_sampling import SMOTE\n",
        "from sklearn.model_selection import train_test_split\n",
        "from sklearn.preprocessing import LabelEncoder\n",
        "import pandas as pd\n",
        "\n",
        "# Assuming your dataset is a pandas DataFrame\n",
        "# 'dead_5y' is the target column indicating if a person died within 5 years\n",
        "# Convert categorical columns in X to numeric\n",
        "X = pd.get_dummies(data.drop(columns=['dead_5y']), drop_first=True)  # One-hot encoding\n",
        "y = data['dead_5y']  # Target column\n",
        "\n",
        "# Apply SMOTE to balance the classes in the entire dataset\n",
        "smote = SMOTE(random_state=42)\n",
        "X_resampled, y_resampled = smote.fit_resample(X, y)\n",
        "\n",
        "# Now X_resampled and y_resampled contain the oversampled balanced data\n",
        "print(f\"Original dataset shape: {y.value_counts()}\")\n",
        "print(f\"Resampled dataset shape: {y_resampled.value_counts()}\")\n",
        "\n",
        "# Now split the resampled data into training and test sets (70% train, 30% test)\n",
        "X_train, X_test, y_train, y_test = train_test_split(X_resampled, y_resampled, test_size=0.3, random_state=42)\n",
        "\n",
        "# Check the final train-test split\n",
        "print(f\"Training set shape: {y_train.value_counts()}\")\n",
        "print(f\"Test set shape: {y_test.value_counts()}\")"
      ]
    },
    {
      "cell_type": "markdown",
      "id": "b71a74a5",
      "metadata": {
        "id": "b71a74a5"
      },
      "source": [
        "#### Now, when data is balanced, we can run all the models we learned in class\n",
        "\n",
        "#### We will run them before, and after, PCA Algorithem."
      ]
    },
    {
      "cell_type": "markdown",
      "id": "9af349a3-901d-41eb-acd6-b23956364ed7",
      "metadata": {
        "id": "9af349a3-901d-41eb-acd6-b23956364ed7"
      },
      "source": [
        "<hr style=\"border: 2px solid black;\"/>\n"
      ]
    },
    {
      "cell_type": "markdown",
      "id": "0b930fb6",
      "metadata": {
        "id": "0b930fb6"
      },
      "source": [
        "<h2><u><b id=\"Part-4-Models\">Part 4 - Models</b></u></h2>"
      ]
    },
    {
      "cell_type": "markdown",
      "id": "523df16c",
      "metadata": {
        "id": "523df16c"
      },
      "source": [
        "<u><b><h4>Perceptron:</h4></b></u>"
      ]
    },
    {
      "cell_type": "markdown",
      "id": "d4c694f2-4421-4671-bf58-2bca82481a7f",
      "metadata": {
        "id": "d4c694f2-4421-4671-bf58-2bca82481a7f"
      },
      "source": [
        "![image.png](attachment:ca5383c2-d76d-41e4-8f12-02ee3125918f.png)"
      ]
    },
    {
      "cell_type": "code",
      "execution_count": null,
      "id": "944049e1",
      "metadata": {
        "id": "944049e1",
        "outputId": "b51c0c4c-3667-4765-c98c-df3740019b57"
      },
      "outputs": [
        {
          "name": "stdout",
          "output_type": "stream",
          "text": [
            "Perceptron accuracy on original training set: 78.75%\n",
            "Perceptron accuracy on test set: 79.22%\n"
          ]
        },
        {
          "data": {
            "image/png": "[encoded data removed]",
            "text/plain": [
              "<Figure size 640x480 with 2 Axes>"
            ]
          },
          "metadata": {},
          "output_type": "display_data"
        }
      ],
      "source": [
        "from sklearn.linear_model import Perceptron\n",
        "# Perceptron model\n",
        "perceptron = Perceptron()\n",
        "\n",
        "# Train the Perceptron model on the resampled training data\n",
        "perceptron.fit(X_train, y_train)\n",
        "\n",
        "# Check accuracy on the original (non-resampled) training set\n",
        "acc_perceptron_train = round(perceptron.score(X_train, y_train) * 100, 2)\n",
        "print(f\"Perceptron accuracy on original training set: {acc_perceptron_train}%\")\n",
        "\n",
        "# Check accuracy on the test set\n",
        "acc_perceptron_test = round(perceptron.score(X_test, y_test) * 100, 2)\n",
        "print(f\"Perceptron accuracy on test set: {acc_perceptron_test}%\")\n",
        "\n",
        "from sklearn.metrics import confusion_matrix\n",
        "\n",
        "# Assuming you have already trained your Perceptron model and made predictions\n",
        "y_pred_perceptron = perceptron.predict(X_test)  # Make predictions on the test set\n",
        "cnf_matrix_perceptron = confusion_matrix(y_test, y_pred_perceptron)  # Calculate the confusion matrix\n",
        "\n",
        "# Visualizing the confusion matrix\n",
        "class_names = [0, 1]  # Name of classes\n",
        "fig, ax = plt.subplots()\n",
        "tick_marks = np.arange(len(class_names))\n",
        "plt.xticks(tick_marks, class_names)\n",
        "plt.yticks(tick_marks, class_names)\n",
        "\n",
        "# Create heatmap\n",
        "sns.heatmap(pd.DataFrame(cnf_matrix_perceptron), annot=True, cmap=\"YlGnBu\", fmt='g', ax=ax)\n",
        "ax.xaxis.set_label_position(\"top\")\n",
        "plt.tight_layout()\n",
        "plt.title('Confusion Matrix - Perceptron', y=1.1)\n",
        "plt.ylabel('Actual Label')\n",
        "plt.xlabel('Predicted Label')\n",
        "plt.show()\n",
        "\n"
      ]
    },
    {
      "cell_type": "markdown",
      "id": "9a430b33",
      "metadata": {
        "id": "9a430b33"
      },
      "source": [
        "<u><b><h4>KNN:</h4></b></u>"
      ]
    },
    {
      "cell_type": "code",
      "execution_count": null,
      "id": "214cf062",
      "metadata": {
        "id": "214cf062",
        "outputId": "d13b2ebc-dbec-408d-af8d-d9eac5417641"
      },
      "outputs": [
        {
          "name": "stdout",
          "output_type": "stream",
          "text": [
            "KNN accuracy on original training set: 95.78%\n",
            "KNN accuracy on test set: 92.25%\n"
          ]
        },
        {
          "data": {
            "image/png": "[encoded data removed]",
            "text/plain": [
              "<Figure size 640x480 with 2 Axes>"
            ]
          },
          "metadata": {},
          "output_type": "display_data"
        }
      ],
      "source": [
        "from sklearn.neighbors import KNeighborsClassifier\n",
        "# K-Nearest Neighbors model\n",
        "knn = KNeighborsClassifier(n_neighbors=3)\n",
        "\n",
        "# Train the KNN model on the resampled training data\n",
        "knn.fit(X_train, y_train)\n",
        "\n",
        "# Check accuracy on the original (non-resampled) training set\n",
        "acc_knn_train = round(knn.score(X_train, y_train) * 100, 2)\n",
        "print(f\"KNN accuracy on original training set: {acc_knn_train}%\")\n",
        "\n",
        "# Check accuracy on the test set\n",
        "acc_knn_test = round(knn.score(X_test, y_test) * 100, 2)\n",
        "print(f\"KNN accuracy on test set: {acc_knn_test}%\")\n",
        "\n",
        "from sklearn.metrics import confusion_matrix\n",
        "\n",
        "# Assuming you have already trained your KNN model and made predictions\n",
        "y_pred = knn.predict(X_test)  # Make predictions on the test set\n",
        "cnf_matrix = confusion_matrix(y_test, y_pred)  # Calculate the confusion matrix\n",
        "\n",
        "# Visualizing the confusion matrix\n",
        "class_names = [0, 1]  # Name of classes\n",
        "fig, ax = plt.subplots()\n",
        "tick_marks = np.arange(len(class_names))\n",
        "plt.xticks(tick_marks, class_names)\n",
        "plt.yticks(tick_marks, class_names)\n",
        "\n",
        "# Create heatmap\n",
        "sns.heatmap(pd.DataFrame(cnf_matrix), annot=True, cmap=\"YlGnBu\", fmt='g', ax=ax)\n",
        "ax.xaxis.set_label_position(\"top\")\n",
        "plt.tight_layout()\n",
        "plt.title('Confusion Matrix', y=1.1)\n",
        "plt.ylabel('Actual Label')\n",
        "plt.xlabel('Predicted Label')\n",
        "plt.show()\n"
      ]
    },
    {
      "cell_type": "markdown",
      "id": "eed34f5c",
      "metadata": {
        "id": "eed34f5c"
      },
      "source": [
        "<u><b><h4>Naive bayesian classification:</h4></b></u>"
      ]
    },
    {
      "cell_type": "code",
      "execution_count": null,
      "id": "8a9a2653",
      "metadata": {
        "id": "8a9a2653",
        "outputId": "65cc42b9-d702-4d60-8da2-dcbe6e7bac56"
      },
      "outputs": [
        {
          "name": "stdout",
          "output_type": "stream",
          "text": [
            "Naive Bayes accuracy on original training set: 76.79%\n",
            "Naive Bayes accuracy on test set: 77.99%\n"
          ]
        },
        {
          "data": {
            "image/png": "[encoded data removed]",
            "text/plain": [
              "<Figure size 640x480 with 2 Axes>"
            ]
          },
          "metadata": {},
          "output_type": "display_data"
        }
      ],
      "source": [
        "from sklearn.naive_bayes import GaussianNB\n",
        "# Naive Bayes (GaussianNB) model\n",
        "naive = GaussianNB()\n",
        "\n",
        "# Train the GaussianNB model on the resampled training data\n",
        "naive.fit(X_train, y_train)\n",
        "\n",
        "# Check accuracy on the original (non-resampled) training set\n",
        "acc_naive_train = round(naive.score(X_train, y_train) * 100, 2)\n",
        "print(f\"Naive Bayes accuracy on original training set: {acc_naive_train}%\")\n",
        "\n",
        "# Check accuracy on the test set\n",
        "acc_naive_test = round(naive.score(X_test, y_test) * 100, 2)\n",
        "print(f\"Naive Bayes accuracy on test set: {acc_naive_test}%\")\n",
        "\n",
        "from sklearn.metrics import confusion_matrix\n",
        "\n",
        "# Assuming you have already trained your Naive Bayes model and made predictions\n",
        "y_pred_naive = naive.predict(X_test)  # Make predictions on the test set\n",
        "cnf_matrix_naive = confusion_matrix(y_test, y_pred_naive)  # Calculate the confusion matrix\n",
        "\n",
        "# Visualizing the confusion matrix\n",
        "class_names = [0, 1]  # Name of classes\n",
        "fig, ax = plt.subplots()\n",
        "tick_marks = np.arange(len(class_names))\n",
        "plt.xticks(tick_marks, class_names)\n",
        "plt.yticks(tick_marks, class_names)\n",
        "\n",
        "# Create heatmap\n",
        "sns.heatmap(pd.DataFrame(cnf_matrix_naive), annot=True, cmap=\"YlGnBu\", fmt='g', ax=ax)\n",
        "ax.xaxis.set_label_position(\"top\")\n",
        "plt.tight_layout()\n",
        "plt.title('Confusion Matrix - Naive Bayes', y=1.1)\n",
        "plt.ylabel('Actual Label')\n",
        "plt.xlabel('Predicted Label')\n",
        "plt.show()\n"
      ]
    },
    {
      "cell_type": "markdown",
      "id": "7c6e99e1",
      "metadata": {
        "id": "7c6e99e1"
      },
      "source": [
        "<u><b><h4>Logistic Regression:</h4></b></u>"
      ]
    },
    {
      "cell_type": "markdown",
      "id": "d7359403-6123-48e1-b941-7bfbe47db8ac",
      "metadata": {
        "id": "d7359403-6123-48e1-b941-7bfbe47db8ac"
      },
      "source": [
        "![image.png](attachment:628b9ca4-94c5-498e-914c-d327ab7d05cd.png)"
      ]
    },
    {
      "cell_type": "code",
      "execution_count": null,
      "id": "5cca5877",
      "metadata": {
        "id": "5cca5877",
        "outputId": "428004f1-1274-4414-d385-d43247fc9bbe"
      },
      "outputs": [
        {
          "name": "stdout",
          "output_type": "stream",
          "text": [
            "Logistic Regression accuracy on original training set: 88.68%\n",
            "Logistic Regression accuracy on test set: 88.99%\n"
          ]
        },
        {
          "data": {
            "image/png": "[encoded data removed]",
            "text/plain": [
              "<Figure size 640x480 with 2 Axes>"
            ]
          },
          "metadata": {},
          "output_type": "display_data"
        }
      ],
      "source": [
        "from sklearn.linear_model import LogisticRegression\n",
        "from sklearn.preprocessing import StandardScaler\n",
        "\n",
        "# Scale the features\n",
        "scaler = StandardScaler()\n",
        "X_train_scaled = scaler.fit_transform(X_train)\n",
        "X_test_scaled = scaler.transform(X_test)\n",
        "\n",
        "# Create the Logistic Regression model with increased max_iter\n",
        "logreg = LogisticRegression(max_iter=200)\n",
        "\n",
        "# Train the model on the scaled training data\n",
        "logreg.fit(X_train_scaled, y_train)\n",
        "\n",
        "# Check accuracy on the scaled training set\n",
        "acc_log = round(logreg.score(X_train_scaled, y_train) * 100, 2)\n",
        "print(f\"Logistic Regression accuracy on original training set: {acc_log}%\")\n",
        "\n",
        "# Check accuracy on the scaled test set\n",
        "acc_log_test = round(logreg.score(X_test_scaled, y_test) * 100, 2)\n",
        "print(f\"Logistic Regression accuracy on test set: {acc_log_test}%\")\n",
        "\n",
        "\n",
        "from sklearn.metrics import confusion_matrix\n",
        "\n",
        "# Assuming you have already trained your Logistic Regression model and made predictions\n",
        "y_pred_log = logreg.predict(X_test_scaled)  # Make predictions on the test set\n",
        "cnf_matrix_log = confusion_matrix(y_test, y_pred_log)  # Calculate the confusion matrix\n",
        "\n",
        "# Visualizing the confusion matrix\n",
        "class_names = [0, 1]  # Name of classes\n",
        "fig, ax = plt.subplots()\n",
        "tick_marks = np.arange(len(class_names))\n",
        "plt.xticks(tick_marks, class_names)\n",
        "plt.yticks(tick_marks, class_names)\n",
        "\n",
        "# Create heatmap\n",
        "sns.heatmap(pd.DataFrame(cnf_matrix_log), annot=True, cmap=\"YlGnBu\", fmt='g', ax=ax)\n",
        "ax.xaxis.set_label_position(\"top\")\n",
        "plt.tight_layout()\n",
        "plt.title('Confusion Matrix - Logistic Regression', y=1.1)\n",
        "plt.ylabel('Actual Label')\n",
        "plt.xlabel('Predicted Label')\n",
        "plt.show()\n",
        "\n"
      ]
    },
    {
      "cell_type": "markdown",
      "id": "6f719056",
      "metadata": {
        "id": "6f719056"
      },
      "source": [
        "<u><b><h4>SVM:</h4></b></u>"
      ]
    },
    {
      "cell_type": "markdown",
      "id": "df134688-7f88-4d59-a2e3-12bcc4adb88c",
      "metadata": {
        "id": "df134688-7f88-4d59-a2e3-12bcc4adb88c"
      },
      "source": [
        "![image.png](attachment:376ded4c-85d5-4f3c-a4a6-5fdb2988d685.png)"
      ]
    },
    {
      "cell_type": "code",
      "execution_count": null,
      "id": "5c07fe88",
      "metadata": {
        "id": "5c07fe88",
        "outputId": "6692f4de-5659-488a-8596-e225e20a1e9b"
      },
      "outputs": [
        {
          "name": "stderr",
          "output_type": "stream",
          "text": [
            "/opt/anaconda3/lib/python3.12/site-packages/sklearn/svm/_classes.py:31: FutureWarning: The default value of `dual` will change from `True` to `'auto'` in 1.5. Set the value of `dual` explicitly to suppress the warning.\n",
            "  warnings.warn(\n"
          ]
        },
        {
          "name": "stdout",
          "output_type": "stream",
          "text": [
            "Linear SVC accuracy on original training set: 77.35%\n",
            "Linear SVC accuracy on test set: 78.67%\n"
          ]
        },
        {
          "name": "stderr",
          "output_type": "stream",
          "text": [
            "/opt/anaconda3/lib/python3.12/site-packages/sklearn/svm/_base.py:1237: ConvergenceWarning: Liblinear failed to converge, increase the number of iterations.\n",
            "  warnings.warn(\n"
          ]
        },
        {
          "data": {
            "image/png": "[encoded data removed]",
            "text/plain": [
              "<Figure size 640x480 with 2 Axes>"
            ]
          },
          "metadata": {},
          "output_type": "display_data"
        }
      ],
      "source": [
        "from sklearn.svm import SVC,LinearSVC\n",
        "# Linear Support Vector Classifier (LinearSVC)\n",
        "linear_svc = LinearSVC()\n",
        "\n",
        "# Train the LinearSVC model on the resampled training data\n",
        "linear_svc.fit(X_train, y_train)\n",
        "\n",
        "# Check accuracy on the original (non-resampled) training set\n",
        "acc_linear_svc_train = round(linear_svc.score(X_train, y_train) * 100, 2)\n",
        "print(f\"Linear SVC accuracy on original training set: {acc_linear_svc_train}%\")\n",
        "\n",
        "# Check accuracy on the test set\n",
        "acc_linear_svc_test = round(linear_svc.score(X_test, y_test) * 100, 2)\n",
        "print(f\"Linear SVC accuracy on test set: {acc_linear_svc_test}%\")\n",
        "\n",
        "\n",
        "from sklearn.metrics import confusion_matrix\n",
        "\n",
        "# Make predictions on the test set\n",
        "y_pred_svc = linear_svc.predict(X_test)  # Use the test set to get predictions\n",
        "cnf_matrix_svc = confusion_matrix(y_test, y_pred_svc)  # Calculate the confusion matrix\n",
        "\n",
        "# Visualizing the confusion matrix\n",
        "class_names = [0, 1]  # Name of classes\n",
        "fig, ax = plt.subplots()\n",
        "tick_marks = np.arange(len(class_names))\n",
        "plt.xticks(tick_marks, class_names)\n",
        "plt.yticks(tick_marks, class_names)\n",
        "\n",
        "# Create heatmap\n",
        "sns.heatmap(pd.DataFrame(cnf_matrix_svc), annot=True, cmap=\"YlGnBu\", fmt='g', ax=ax)\n",
        "ax.xaxis.set_label_position(\"top\")\n",
        "plt.tight_layout()\n",
        "plt.title('Confusion Matrix - Linear SVC', y=1.1)\n",
        "plt.ylabel('Actual Label')\n",
        "plt.xlabel('Predicted Label')\n",
        "plt.show()\n"
      ]
    },
    {
      "cell_type": "markdown",
      "id": "11e809c8",
      "metadata": {
        "id": "11e809c8"
      },
      "source": [
        "<u><b><h4>In conclusion:</h4></b></u>"
      ]
    },
    {
      "cell_type": "code",
      "execution_count": null,
      "id": "8def6c67",
      "metadata": {
        "id": "8def6c67",
        "outputId": "c5a98e14-fb9a-4e37-df0a-b1ef3ed0c972"
      },
      "outputs": [
        {
          "name": "stderr",
          "output_type": "stream",
          "text": [
            "/opt/anaconda3/lib/python3.12/site-packages/sklearn/linear_model/_logistic.py:469: ConvergenceWarning: lbfgs failed to converge (status=1):\n",
            "STOP: TOTAL NO. of ITERATIONS REACHED LIMIT.\n",
            "\n",
            "Increase the number of iterations (max_iter) or scale the data as shown in:\n",
            "    https://scikit-learn.org/stable/modules/preprocessing.html\n",
            "Please also refer to the documentation for alternative solver options:\n",
            "    https://scikit-learn.org/stable/modules/linear_model.html#logistic-regression\n",
            "  n_iter_i = _check_optimize_result(\n"
          ]
        },
        {
          "name": "stdout",
          "output_type": "stream",
          "text": [
            "Logistic Regression Accuracy: 0.8834581347855684\n",
            "KNN Accuracy: 0.9225323349217155\n"
          ]
        },
        {
          "name": "stderr",
          "output_type": "stream",
          "text": [
            "/opt/anaconda3/lib/python3.12/site-packages/sklearn/svm/_classes.py:31: FutureWarning: The default value of `dual` will change from `True` to `'auto'` in 1.5. Set the value of `dual` explicitly to suppress the warning.\n",
            "  warnings.warn(\n",
            "/opt/anaconda3/lib/python3.12/site-packages/sklearn/svm/_base.py:1237: ConvergenceWarning: Liblinear failed to converge, increase the number of iterations.\n",
            "  warnings.warn(\n"
          ]
        },
        {
          "name": "stdout",
          "output_type": "stream",
          "text": [
            "SVC Accuracy: 0.8661674608577263\n",
            "Naive Bayes Accuracy: 0.7798502382573179\n",
            "Perceptron Accuracy: 0.7922396187882913\n",
            "\n",
            "Classification Report for Logistic Regression:\n",
            "               precision    recall  f1-score   support\n",
            "\n",
            "           0       0.89      0.88      0.88      3692\n",
            "           1       0.88      0.89      0.88      3653\n",
            "\n",
            "    accuracy                           0.88      7345\n",
            "   macro avg       0.88      0.88      0.88      7345\n",
            "weighted avg       0.88      0.88      0.88      7345\n",
            "\n",
            "Classification Report for KNN:\n",
            "               precision    recall  f1-score   support\n",
            "\n",
            "           0       1.00      0.85      0.92      3692\n",
            "           1       0.87      1.00      0.93      3653\n",
            "\n",
            "    accuracy                           0.92      7345\n",
            "   macro avg       0.93      0.92      0.92      7345\n",
            "weighted avg       0.93      0.92      0.92      7345\n",
            "\n",
            "Classification Report for SVC:\n",
            "               precision    recall  f1-score   support\n",
            "\n",
            "           0       0.89      0.84      0.86      3692\n",
            "           1       0.85      0.89      0.87      3653\n",
            "\n",
            "    accuracy                           0.87      7345\n",
            "   macro avg       0.87      0.87      0.87      7345\n",
            "weighted avg       0.87      0.87      0.87      7345\n",
            "\n",
            "Classification Report for Naive Bayes:\n",
            "               precision    recall  f1-score   support\n",
            "\n",
            "           0       0.72      0.92      0.81      3692\n",
            "           1       0.89      0.64      0.74      3653\n",
            "\n",
            "    accuracy                           0.78      7345\n",
            "   macro avg       0.80      0.78      0.78      7345\n",
            "weighted avg       0.80      0.78      0.78      7345\n",
            "\n",
            "Classification Report for Perceptron:\n",
            "               precision    recall  f1-score   support\n",
            "\n",
            "           0       0.76      0.87      0.81      3692\n",
            "           1       0.84      0.72      0.77      3653\n",
            "\n",
            "    accuracy                           0.79      7345\n",
            "   macro avg       0.80      0.79      0.79      7345\n",
            "weighted avg       0.80      0.79      0.79      7345\n",
            "\n"
          ]
        }
      ],
      "source": [
        "from sklearn.metrics import classification_report, accuracy_score\n",
        "# Logistic Regression\n",
        "logreg = LogisticRegression(max_iter=1000)  # Increase max_iter if necessary\n",
        "logreg.fit(X_train, y_train)\n",
        "y_pred_logreg = logreg.predict(X_test)\n",
        "print(\"Logistic Regression Accuracy:\", accuracy_score(y_test, y_pred_logreg))\n",
        "\n",
        "# K-Nearest Neighbors\n",
        "knn = KNeighborsClassifier(n_neighbors=3)\n",
        "knn.fit(X_train, y_train)\n",
        "y_pred_knn = knn.predict(X_test)\n",
        "print(\"KNN Accuracy:\", accuracy_score(y_test, y_pred_knn))\n",
        "\n",
        "# Support Vector Machine\n",
        "linear_svc = LinearSVC(max_iter=1000)  # Increase max_iter if necessary\n",
        "linear_svc.fit(X_train, y_train)\n",
        "y_pred_svc = linear_svc.predict(X_test)\n",
        "print(\"SVC Accuracy:\", accuracy_score(y_test, y_pred_svc))\n",
        "\n",
        "# Naive Bayes\n",
        "naive = GaussianNB()\n",
        "naive.fit(X_train, y_train)\n",
        "y_pred_naive = naive.predict(X_test)\n",
        "print(\"Naive Bayes Accuracy:\", accuracy_score(y_test, y_pred_naive))\n",
        "\n",
        "# Perceptron\n",
        "perceptron = Perceptron(max_iter=1000)  # Increase max_iter if necessary\n",
        "perceptron.fit(X_train, y_train)\n",
        "y_pred_perceptron = perceptron.predict(X_test)\n",
        "print(\"Perceptron Accuracy:\", accuracy_score(y_test, y_pred_perceptron))\n",
        "\n",
        "# Optional: Print classification reports for more metrics\n",
        "print(\"\\nClassification Report for Logistic Regression:\\n\", classification_report(y_test, y_pred_logreg))\n",
        "print(\"Classification Report for KNN:\\n\", classification_report(y_test, y_pred_knn))\n",
        "print(\"Classification Report for SVC:\\n\", classification_report(y_test, y_pred_svc))\n",
        "print(\"Classification Report for Naive Bayes:\\n\", classification_report(y_test, y_pred_naive))\n",
        "print(\"Classification Report for Perceptron:\\n\", classification_report(y_test, y_pred_perceptron))"
      ]
    },
    {
      "cell_type": "markdown",
      "id": "386d8b65",
      "metadata": {
        "id": "386d8b65"
      },
      "source": [
        "<h2><u><b id=\"Winning-model\">Winning model</b></u></h2>"
      ]
    },
    {
      "cell_type": "markdown",
      "id": "492ee31c",
      "metadata": {
        "id": "492ee31c"
      },
      "source": [
        "\n",
        "#### KNN with 95.78% of our training data and 92.25% of our test data!"
      ]
    },
    {
      "cell_type": "markdown",
      "id": "c19fde87-b612-4025-9875-e79f2d2c5554",
      "metadata": {
        "id": "c19fde87-b612-4025-9875-e79f2d2c5554"
      },
      "source": [
        "<hr style=\"border: 2px solid black;\"/>\n"
      ]
    },
    {
      "cell_type": "markdown",
      "id": "19460fd5",
      "metadata": {
        "id": "19460fd5"
      },
      "source": [
        "<h2><u><b id=\"Part-5-After-PCA\">Part 5 - After PCA</b></u></h2>"
      ]
    },
    {
      "cell_type": "code",
      "execution_count": null,
      "id": "cc1d33be",
      "metadata": {
        "id": "cc1d33be",
        "outputId": "46a00fa0-c7a1-4128-a89d-f5c4bb4a19c8"
      },
      "outputs": [
        {
          "name": "stdout",
          "output_type": "stream",
          "text": [
            "Centroid (Center of Mass): [-1.0138216e-16  2.5019739e-16]\n",
            "Radius of Coverage: 10.007389926808752\n",
            "Shape of X_train before PCA: (17137, 37)\n",
            "Shape of X_train after PCA: (9950, 2)\n",
            "Shape of X_test before PCA: (7345, 37)\n",
            "Shape of X_test after PCA: (2488, 2)\n"
          ]
        }
      ],
      "source": [
        "from sklearn.decomposition import PCA\n",
        "from sklearn.preprocessing import StandardScaler\n",
        "from sklearn.model_selection import train_test_split\n",
        "import pandas as pd\n",
        "import numpy as np\n",
        "import matplotlib.pyplot as plt\n",
        "\n",
        "# Step 1: Separate features (X) and target (y)\n",
        "X = data.drop(columns=['dead_5y'])  # Remove target column 'dead_5y'\n",
        "y = data['dead_5y']  # Target column\n",
        "\n",
        "# Step 2: Convert categorical columns to numeric using one-hot encoding\n",
        "X_encoded = pd.get_dummies(X, drop_first=True)\n",
        "\n",
        "# Step 3: Normalize the features to ensure they are on the same scale\n",
        "scaler = StandardScaler()\n",
        "X_scaled = scaler.fit_transform(X_encoded)\n",
        "\n",
        "# Step 4: Perform PCA to reduce dimensionality to two components\n",
        "pca = PCA(n_components=2)  # Reduce to two dimensions\n",
        "X_pca = pca.fit_transform(X_scaled)\n",
        "\n",
        "# Step 5: Split the dataset into training and test sets (80% training, 20% testing)\n",
        "X_train_pca, X_test_pca, y_train, y_test = train_test_split(X_pca, y, test_size=0.2, random_state=42)\n",
        "\n",
        "# Step 6: Calculate the centroid (center of mass) of the points\n",
        "centroid = np.mean(X_pca, axis=0)\n",
        "print(f\"Centroid (Center of Mass): {centroid}\")\n",
        "\n",
        "# Step 7: Calculate the maximum distance from the centroid (radius of coverage)\n",
        "distances = np.linalg.norm(X_pca - centroid, axis=1)\n",
        "radius = np.max(distances)\n",
        "print(f\"Radius of Coverage: {radius}\")\n",
        "\n",
        "\n",
        "\n",
        "print(f\"Shape of X_train before PCA: {X_train.shape}\")\n",
        "print(f\"Shape of X_train after PCA: {X_train_pca.shape}\")\n",
        "print(f\"Shape of X_test before PCA: {X_test.shape}\")\n",
        "print(f\"Shape of X_test after PCA: {X_test_pca.shape}\")\n"
      ]
    },
    {
      "cell_type": "markdown",
      "id": "214a88a0",
      "metadata": {
        "id": "214a88a0"
      },
      "source": [
        "<u><b><h4>Perceptron:</h4></b></u>"
      ]
    },
    {
      "cell_type": "code",
      "execution_count": null,
      "id": "06c98abd",
      "metadata": {
        "id": "06c98abd",
        "outputId": "b00469e6-9ca3-4f9f-e603-5ce75caee7e9"
      },
      "outputs": [
        {
          "name": "stdout",
          "output_type": "stream",
          "text": [
            "Perceptron accuracy on PCA-transformed training set: 98.44%\n",
            "Perceptron accuracy on PCA-transformed test set: 98.27%\n"
          ]
        },
        {
          "data": {
            "image/png": "[encoded data removed]",
            "text/plain": [
              "<Figure size 640x480 with 2 Axes>"
            ]
          },
          "metadata": {},
          "output_type": "display_data"
        }
      ],
      "source": [
        "from sklearn.linear_model import Perceptron\n",
        "# Perceptron model\n",
        "perceptron = Perceptron()\n",
        "\n",
        "# Train the Perceptron model on the PCA-transformed training data\n",
        "perceptron.fit(X_train_pca, y_train)\n",
        "\n",
        "# Check accuracy on the PCA-transformed training set\n",
        "acc_perceptron_train = round(perceptron.score(X_train_pca, y_train) * 100, 2)\n",
        "print(f\"Perceptron accuracy on PCA-transformed training set: {acc_perceptron_train}%\")\n",
        "\n",
        "# Check accuracy on the PCA-transformed test set\n",
        "acc_perceptron_test = round(perceptron.score(X_test_pca, y_test) * 100, 2)\n",
        "print(f\"Perceptron accuracy on PCA-transformed test set: {acc_perceptron_test}%\")\n",
        "\n",
        "import seaborn as sns\n",
        "import matplotlib.pyplot as plt\n",
        "from sklearn.metrics import confusion_matrix\n",
        "\n",
        "# Make predictions on the test set\n",
        "y_pred_perceptron = perceptron.predict(X_test_pca)  # Predict on PCA-transformed test set\n",
        "cnf_matrix_perceptron = confusion_matrix(y_test, y_pred_perceptron)  # Calculate confusion matrix\n",
        "\n",
        "# Visualizing the confusion matrix\n",
        "class_names = [0, 1]  # Define class labels (adjust based on your classes)\n",
        "fig, ax = plt.subplots()\n",
        "tick_marks = np.arange(len(class_names))\n",
        "plt.xticks(tick_marks, class_names)\n",
        "plt.yticks(tick_marks, class_names)\n",
        "\n",
        "# Create heatmap\n",
        "sns.heatmap(pd.DataFrame(cnf_matrix_perceptron), annot=True, cmap=\"YlGnBu\", fmt='g', ax=ax)\n",
        "ax.xaxis.set_label_position(\"top\")\n",
        "plt.tight_layout()\n",
        "plt.title('Confusion Matrix - Perceptron', y=1.1)\n",
        "plt.ylabel('Actual Label')\n",
        "plt.xlabel('Predicted Label')\n",
        "plt.show()\n",
        "\n"
      ]
    },
    {
      "cell_type": "markdown",
      "id": "8c9ea493",
      "metadata": {
        "id": "8c9ea493"
      },
      "source": [
        "<u><b><h4>KNN algo:</h4></b></u>"
      ]
    },
    {
      "cell_type": "code",
      "execution_count": null,
      "id": "03cc325a",
      "metadata": {
        "id": "03cc325a",
        "outputId": "4afe80a5-a6cc-4247-f752-04d0d29db705"
      },
      "outputs": [
        {
          "name": "stdout",
          "output_type": "stream",
          "text": [
            "KNN accuracy on PCA-transformed training set: 98.45%\n",
            "KNN accuracy on PCA-transformed test set: 98.27%\n"
          ]
        },
        {
          "data": {
            "image/png": "[encoded data removed]",
            "text/plain": [
              "<Figure size 640x480 with 2 Axes>"
            ]
          },
          "metadata": {},
          "output_type": "display_data"
        }
      ],
      "source": [
        "from sklearn.neighbors import KNeighborsClassifier\n",
        "knn = KNeighborsClassifier(n_neighbors=3)\n",
        "\n",
        "# Train the KNN model on the PCA-transformed training data\n",
        "knn.fit(X_train_pca, y_train)\n",
        "\n",
        "# Check accuracy on the PCA-transformed training set\n",
        "acc_knn_train = round(knn.score(X_train_pca, y_train) * 100, 2)\n",
        "print(f\"KNN accuracy on PCA-transformed training set: {acc_knn_train}%\")\n",
        "\n",
        "# Check accuracy on the PCA-transformed test set\n",
        "acc_knn_test = round(knn.score(X_test_pca, y_test) * 100, 2)\n",
        "print(f\"KNN accuracy on PCA-transformed test set: {acc_knn_test}%\")\n",
        "\n",
        "\n",
        "from sklearn.metrics import confusion_matrix\n",
        "\n",
        "# Make predictions on the test set\n",
        "y_pred_knn = knn.predict(X_test_pca)  # Predict on PCA-transformed test set\n",
        "cnf_matrix_knn = confusion_matrix(y_test, y_pred_knn)  # Calculate confusion matrix\n",
        "\n",
        "# Visualizing the confusion matrix\n",
        "class_names = [0, 1]  # Define class labels (adjust based on your classes)\n",
        "fig, ax = plt.subplots()\n",
        "tick_marks = np.arange(len(class_names))\n",
        "plt.xticks(tick_marks, class_names)\n",
        "plt.yticks(tick_marks, class_names)\n",
        "\n",
        "# Create heatmap\n",
        "sns.heatmap(pd.DataFrame(cnf_matrix_knn), annot=True, cmap=\"YlGnBu\", fmt='g', ax=ax)\n",
        "ax.xaxis.set_label_position(\"top\")\n",
        "plt.tight_layout()\n",
        "plt.title('Confusion Matrix - KNN', y=1.1)\n",
        "plt.ylabel('Actual Label')\n",
        "plt.xlabel('Predicted Label')\n",
        "plt.show()\n"
      ]
    },
    {
      "cell_type": "markdown",
      "id": "8213d040",
      "metadata": {
        "id": "8213d040"
      },
      "source": [
        "<u><b><h4>Naive Bisani classification:</h4></b></u>"
      ]
    },
    {
      "cell_type": "code",
      "execution_count": null,
      "id": "d014c2c7",
      "metadata": {
        "id": "d014c2c7",
        "outputId": "f4bf7693-b82f-466e-a1e0-fad391f8f0a5"
      },
      "outputs": [
        {
          "name": "stdout",
          "output_type": "stream",
          "text": [
            "Naive Bayes accuracy on PCA-transformed training set: 98.29%\n",
            "Naive Bayes accuracy on PCA-transformed test set: 98.31%\n"
          ]
        },
        {
          "data": {
            "image/png": "[encoded data removed]",
            "text/plain": [
              "<Figure size 640x480 with 2 Axes>"
            ]
          },
          "metadata": {},
          "output_type": "display_data"
        }
      ],
      "source": [
        "from sklearn.naive_bayes import GaussianNB\n",
        "# Naive Bayes (GaussianNB) model\n",
        "naive = GaussianNB()\n",
        "\n",
        "# Train the GaussianNB model on the PCA-transformed training data\n",
        "naive.fit(X_train_pca, y_train)\n",
        "\n",
        "# Check accuracy on the PCA-transformed training set\n",
        "acc_naive_train = round(naive.score(X_train_pca, y_train) * 100, 2)\n",
        "print(f\"Naive Bayes accuracy on PCA-transformed training set: {acc_naive_train}%\")\n",
        "\n",
        "# Check accuracy on the PCA-transformed test set\n",
        "acc_naive_test = round(naive.score(X_test_pca, y_test) * 100, 2)\n",
        "print(f\"Naive Bayes accuracy on PCA-transformed test set: {acc_naive_test}%\")\n",
        "\n",
        "\n",
        "from sklearn.metrics import confusion_matrix\n",
        "\n",
        "# Make predictions on the test set\n",
        "y_pred_naive = naive.predict(X_test_pca)  # Predict on PCA-transformed test set\n",
        "cnf_matrix_naive = confusion_matrix(y_test, y_pred_naive)  # Calculate confusion matrix\n",
        "\n",
        "# Visualizing the confusion matrix\n",
        "class_names = [0, 1]  # Define class labels (adjust based on your classes)\n",
        "fig, ax = plt.subplots()\n",
        "tick_marks = np.arange(len(class_names))\n",
        "plt.xticks(tick_marks, class_names)\n",
        "plt.yticks(tick_marks, class_names)\n",
        "\n",
        "# Create heatmap\n",
        "sns.heatmap(pd.DataFrame(cnf_matrix_naive), annot=True, cmap=\"YlGnBu\", fmt='g', ax=ax)\n",
        "ax.xaxis.set_label_position(\"top\")\n",
        "plt.tight_layout()\n",
        "plt.title('Confusion Matrix - Naive Bayes (PCA Transformed)', y=1.1)\n",
        "plt.ylabel('Actual Label')\n",
        "plt.xlabel('Predicted Label')\n",
        "plt.show()\n"
      ]
    },
    {
      "cell_type": "markdown",
      "id": "2440de69",
      "metadata": {
        "id": "2440de69"
      },
      "source": [
        "<u><b><h4>Logistic Regression:</h4></b></u>"
      ]
    },
    {
      "cell_type": "code",
      "execution_count": null,
      "id": "51ead9da",
      "metadata": {
        "id": "51ead9da",
        "outputId": "37a33b5f-c9c2-44a7-bbda-f91601545157"
      },
      "outputs": [
        {
          "name": "stdout",
          "output_type": "stream",
          "text": [
            "Logistic Regression accuracy on PCA-transformed training set: 98.44%\n",
            "Logistic Regression accuracy on PCA-transformed test set: 98.31%\n"
          ]
        },
        {
          "data": {
            "image/png": "[encoded data removed]",
            "text/plain": [
              "<Figure size 640x480 with 2 Axes>"
            ]
          },
          "metadata": {},
          "output_type": "display_data"
        }
      ],
      "source": [
        "from sklearn.linear_model import LogisticRegression\n",
        "\n",
        "logreg = LogisticRegression()\n",
        "\n",
        "# Train the model on the PCA-transformed and scaled training data\n",
        "logreg.fit(X_train_pca, y_train)\n",
        "\n",
        "# Check accuracy on the PCA-transformed and scaled training set\n",
        "acc_log = round(logreg.score(X_train_pca, y_train) * 100, 2)\n",
        "print(f\"Logistic Regression accuracy on PCA-transformed training set: {acc_log}%\")\n",
        "\n",
        "# Check accuracy on the PCA-transformed and scaled test set\n",
        "acc_log_test = round(logreg.score(X_test_pca, y_test) * 100, 2)\n",
        "print(f\"Logistic Regression accuracy on PCA-transformed test set: {acc_log_test}%\")\n",
        "\n",
        "\n",
        "from sklearn.metrics import confusion_matrix\n",
        "\n",
        "# Make predictions on the test set\n",
        "y_pred_logreg = logreg.predict(X_test_pca)  # Predict on PCA-transformed test set\n",
        "cnf_matrix_logreg = confusion_matrix(y_test, y_pred_logreg)  # Calculate confusion matrix\n",
        "\n",
        "# Visualizing the confusion matrix\n",
        "class_names = [0, 1]  # Define class labels (adjust based on your classes)\n",
        "fig, ax = plt.subplots()\n",
        "tick_marks = np.arange(len(class_names))\n",
        "plt.xticks(tick_marks, class_names)\n",
        "plt.yticks(tick_marks, class_names)\n",
        "\n",
        "# Create heatmap\n",
        "sns.heatmap(pd.DataFrame(cnf_matrix_logreg), annot=True, cmap=\"YlGnBu\", fmt='g', ax=ax)\n",
        "ax.xaxis.set_label_position(\"top\")\n",
        "plt.tight_layout()\n",
        "plt.title('Confusion Matrix - Logistic Regression (PCA Transformed)', y=1.1)\n",
        "plt.ylabel('Actual Label')\n",
        "plt.xlabel('Predicted Label')\n",
        "plt.show()\n",
        "\n"
      ]
    },
    {
      "cell_type": "markdown",
      "id": "34547ffa",
      "metadata": {
        "id": "34547ffa"
      },
      "source": [
        "<u><b><h4>SVM algo:</h4></b></u>"
      ]
    },
    {
      "cell_type": "code",
      "execution_count": null,
      "id": "acffcf37",
      "metadata": {
        "id": "acffcf37",
        "outputId": "c1071bfc-899d-4b45-f996-e6a7c5f40221"
      },
      "outputs": [
        {
          "name": "stdout",
          "output_type": "stream",
          "text": [
            "Linear SVC accuracy on PCA-transformed training set: 98.44%\n",
            "Linear SVC accuracy on PCA-transformed test set: 98.31%\n"
          ]
        },
        {
          "name": "stderr",
          "output_type": "stream",
          "text": [
            "/opt/anaconda3/lib/python3.12/site-packages/sklearn/svm/_base.py:1237: ConvergenceWarning: Liblinear failed to converge, increase the number of iterations.\n",
            "  warnings.warn(\n"
          ]
        },
        {
          "data": {
            "image/png": "[encoded data removed]",
            "text/plain": [
              "<Figure size 640x480 with 2 Axes>"
            ]
          },
          "metadata": {},
          "output_type": "display_data"
        }
      ],
      "source": [
        "from sklearn.svm import SVC,LinearSVC\n",
        "\n",
        "# Linear Support Vector Classifier (LinearSVC)\n",
        "linear_svc = LinearSVC(dual=True)  # or dual=False depending on your preference\n",
        "\n",
        "# Train the LinearSVC model on the PCA-transformed training data\n",
        "linear_svc.fit(X_train_pca, y_train)\n",
        "\n",
        "# Check accuracy on the PCA-transformed training set\n",
        "acc_linear_svc_train = round(linear_svc.score(X_train_pca, y_train) * 100, 2)\n",
        "print(f\"Linear SVC accuracy on PCA-transformed training set: {acc_linear_svc_train}%\")\n",
        "\n",
        "# Check accuracy on the PCA-transformed test set\n",
        "acc_linear_svc_test = round(linear_svc.score(X_test_pca, y_test) * 100, 2)\n",
        "print(f\"Linear SVC accuracy on PCA-transformed test set: {acc_linear_svc_test}%\")\n",
        "\n",
        "\n",
        "from sklearn.metrics import confusion_matrix\n",
        "\n",
        "# Make predictions on the test set\n",
        "y_pred_linear_svc = linear_svc.predict(X_test_pca)  # Predict on PCA-transformed test set\n",
        "cnf_matrix_linear_svc = confusion_matrix(y_test, y_pred_linear_svc)  # Calculate confusion matrix\n",
        "\n",
        "# Visualizing the confusion matrix\n",
        "class_names = [0, 1]  # Define class labels (adjust based on your classes)\n",
        "fig, ax = plt.subplots()\n",
        "tick_marks = np.arange(len(class_names))\n",
        "plt.xticks(tick_marks, class_names)\n",
        "plt.yticks(tick_marks, class_names)\n",
        "\n",
        "# Create heatmap\n",
        "sns.heatmap(pd.DataFrame(cnf_matrix_linear_svc), annot=True, cmap=\"YlGnBu\", fmt='g', ax=ax)\n",
        "ax.xaxis.set_label_position(\"top\")\n",
        "plt.tight_layout()\n",
        "plt.title('Confusion Matrix - Linear SVC (PCA Transformed)', y=1.1)\n",
        "plt.ylabel('Actual Label')\n",
        "plt.xlabel('Predicted Label')\n",
        "plt.show()\n"
      ]
    }
  ],
  "metadata": {
    "kernelspec": {
      "display_name": "Python 3 (ipykernel)",
      "language": "python",
      "name": "python3"
    },
    "language_info": {
      "codemirror_mode": {
        "name": "ipython",
        "version": 3
      },
      "file_extension": ".py",
      "mimetype": "text/x-python",
      "name": "python",
      "nbconvert_exporter": "python",
      "pygments_lexer": "ipython3",
      "version": "3.12.4"
    },
    "colab": {
      "provenance": []
    }
  },
  "nbformat": 4,
  "nbformat_minor": 5
}